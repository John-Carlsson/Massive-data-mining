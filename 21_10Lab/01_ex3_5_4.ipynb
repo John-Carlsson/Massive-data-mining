{
 "cells": [
  {
   "cell_type": "markdown",
   "metadata": {
    "id": "qBXa5C8I1TKy"
   },
   "source": [
    "LRU 3.5.4\n",
    "Find the Jaccard distances between the following pairs of\n",
    "sets:  \n",
    "(a) {1, 2, 3, 4} and {2, 3, 4, 5}.  \n",
    "(b) {1, 2, 3} and {4, 5, 6}.  \n"
   ]
  },
  {
   "cell_type": "code",
   "execution_count": 1,
   "metadata": {
    "colab": {
     "base_uri": "https://localhost:8080/",
     "height": 52
    },
    "executionInfo": {
     "elapsed": 14341,
     "status": "ok",
     "timestamp": 1602591132100,
     "user": {
      "displayName": "luca rizzuti",
      "photoUrl": "https://lh3.googleusercontent.com/a-/AOh14GjLydIDq4cfyK7fJw6nUzCD7lwz0J_YJeQWpEJ8uA=s64",
      "userId": "07069882873327178853"
     },
     "user_tz": -120
    },
    "id": "IruKD20Y1UiW",
    "outputId": "d5e130ca-936c-423e-9fb0-978495d610e4"
   },
   "outputs": [
    {
     "name": "stdout",
     "output_type": "stream",
     "text": [
      "(a)0.40\n",
      "(b)1.00\n"
     ]
    }
   ],
   "source": [
    "# (a)\n",
    "\n",
    "set1 = {1, 2, 3, 4}\n",
    "set2 = {2, 3, 4, 5}\n",
    "\n",
    "jd = 1 - len(set1.intersection(set2)) / len(set1.union(set2))\n",
    "\n",
    "print(\"(a)%.2f\" % jd)\n",
    "\n",
    "# (b)\n",
    "set1 = {1, 2, 3}\n",
    "set2 = {4, 5, 6}\n",
    "\n",
    "jd = 1 - len(set1.intersection(set2)) / len(set1.union(set2))\n",
    "\n",
    "print(\"(b)%.2f\" % jd)\n"
   ]
  },
  {
   "cell_type": "code",
   "execution_count": null,
   "metadata": {
    "pycharm": {
     "name": "#%%\n"
    }
   },
   "outputs": [],
   "source": []
  },
  {
   "cell_type": "code",
   "execution_count": null,
   "metadata": {},
   "outputs": [],
   "source": []
  }
 ],
 "metadata": {
  "colab": {
   "authorship_tag": "ABX9TyNjbeh+gV/U/ebJSS0oD3rU",
   "name": "01_ex3_5_4.ipynb",
   "provenance": []
  },
  "kernelspec": {
   "display_name": "Python 3 (ipykernel)",
   "language": "python",
   "name": "python3"
  },
  "language_info": {
   "codemirror_mode": {
    "name": "ipython",
    "version": 3
   },
   "file_extension": ".py",
   "mimetype": "text/x-python",
   "name": "python",
   "nbconvert_exporter": "python",
   "pygments_lexer": "ipython3",
   "version": "3.9.12"
  }
 },
 "nbformat": 4,
 "nbformat_minor": 1
}
