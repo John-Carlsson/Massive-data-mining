{
 "cells": [
  {
   "cell_type": "code",
   "execution_count": 138,
   "metadata": {},
   "outputs": [],
   "source": [
    "\"\"\" Prepare a datasetof 5 objects with all kind of attributes seen\n",
    "    Nominal\n",
    "    Symmetric Binary\n",
    "    Assymetric Binary\n",
    "    Ordinal\n",
    "    Numeric\n",
    "    \n",
    "Compute the dissimilarity matrix for each of the attribute separately\n",
    "Compute the dissimilarity for the aggregate case\n",
    "    \"\"\"\n",
    "    \n",
    "\n",
    "import numpy as np\n",
    "from scipy import sparse,spatial"
   ]
  },
  {
   "cell_type": "code",
   "execution_count": 139,
   "metadata": {},
   "outputs": [
    {
     "name": "stdout",
     "output_type": "stream",
     "text": [
      "John is a Male at the age of 64 and a yearly salary of 60829$.\n",
      "Zoe is a Female at the age of 46 and a yearly salary of 89150$.\n",
      "Rebecka is an unemployed Female at the age of 36.\n",
      "Aleix is an unemployed Male at the age of 86.\n",
      "Gabriel is an unemployed Male at the age of 29.\n"
     ]
    }
   ],
   "source": [
    "\n",
    "\n",
    "from random import Random, randint, random, shuffle\n",
    "from secrets import choice\n",
    "\n",
    "\n",
    "class Person():\n",
    "    def __init__(self, name, age = None, sex = None, employed = None, income = None):\n",
    "        self.name = name # Nominal\n",
    "        if age:\n",
    "            self.age = age # Ordinal\n",
    "        else: self.age = randint(20,90)\n",
    "        \n",
    "        \n",
    "        if not sex: \n",
    "            self.sex = choice(seq=['Female','Male']) # Symmetric binary\n",
    "        else: self.sex = sex\n",
    "       \n",
    "        \n",
    "        if employed == None: \n",
    "            self.employed = choice(seq=[True,False]) # Assymetric binary\n",
    "        else: self.employed = False\n",
    "            \n",
    "            \n",
    "        if self.employed: self.income = randint(0,100000) # Numeric\n",
    "        else: self.income = 0\n",
    "        \n",
    "    def __str__(self):\n",
    "        if self.employed:\n",
    "            return f'{self.name} is a {self.sex} at the age of {self.age} and a yearly salary of {self.income}$.'\n",
    "        else: return f'{self.name} is an unemployed {self.sex} at the age of {self.age}.'\n",
    "    \n",
    "    \n",
    "    \n",
    "    \n",
    "\n",
    "         \n",
    "names = ['John', 'Zoe', 'Rebecka', 'Aleix', 'Gabriel']\n",
    "sex = ['Male', 'Female', 'Female', 'Male', 'Male']\n",
    "\n",
    "persons = []\n",
    "for a,n in enumerate(names):\n",
    "    persons.append(Person(n,sex =sex[a]))\n",
    "    print(persons[a])\n",
    "        "
   ]
  },
  {
   "cell_type": "code",
   "execution_count": 140,
   "metadata": {},
   "outputs": [
    {
     "name": "stdout",
     "output_type": "stream",
     "text": [
      "[[1.49166815e-154 1.00000000e+000 1.00000000e+000 1.00000000e+000\n",
      "  1.00000000e+000]\n",
      " [1.00000000e+000 0.00000000e+000 1.00000000e+000 1.00000000e+000\n",
      "  1.00000000e+000]\n",
      " [1.00000000e+000 1.00000000e+000 0.00000000e+000 1.00000000e+000\n",
      "  1.00000000e+000]\n",
      " [1.00000000e+000 1.00000000e+000 1.00000000e+000 4.94065646e-323\n",
      "  1.00000000e+000]\n",
      " [1.00000000e+000 1.00000000e+000 1.00000000e+000 1.00000000e+000\n",
      "  0.00000000e+000]]\n"
     ]
    }
   ],
   "source": [
    "\"\"\" Dissimilarity matrix for Name \"\"\"\n",
    "mat_name = np.empty((len(persons),len(persons)))\n",
    "\n",
    "for n in range(len(persons)):\n",
    "    for k in range(n+1,len(persons)):\n",
    "        if persons[n].name == persons[k].name:\n",
    "            mat_name[n][k] = 0\n",
    "            mat_name[k][n] = 0\n",
    "        else: \n",
    "            mat_name[n][k] = 1\n",
    "            mat_name[k][n] = 1\n",
    "print(mat_name)\n"
   ]
  },
  {
   "cell_type": "code",
   "execution_count": 141,
   "metadata": {},
   "outputs": [
    {
     "name": "stdout",
     "output_type": "stream",
     "text": [
      "[[1.49166815e-154 1.00000000e+000 1.00000000e+000 1.00000000e+000\n",
      "  1.00000000e+000]\n",
      " [1.00000000e+000 0.00000000e+000 1.00000000e+000 1.00000000e+000\n",
      "  1.00000000e+000]\n",
      " [1.00000000e+000 1.00000000e+000 0.00000000e+000 1.00000000e+000\n",
      "  1.00000000e+000]\n",
      " [1.00000000e+000 1.00000000e+000 1.00000000e+000 4.94065646e-323\n",
      "  1.00000000e+000]\n",
      " [1.00000000e+000 1.00000000e+000 1.00000000e+000 1.00000000e+000\n",
      "  0.00000000e+000]]\n"
     ]
    }
   ],
   "source": [
    "\"\"\" Dissimilarity matrix for sex \"\"\"\n",
    "mat_sex = np.empty((len(persons),len(persons)))\n",
    "for n in range(len(persons)):\n",
    "    for k in range(n+1,len(persons)):\n",
    "        if persons[n].name == persons[k].name:\n",
    "            mat_sex[n][k] = 0\n",
    "            mat_sex[k][n] = 0\n",
    "        else: \n",
    "            mat_sex[n][k] = 1\n",
    "            mat_sex[k][n] = 1\n",
    "print(mat_sex)"
   ]
  },
  {
   "cell_type": "code",
   "execution_count": 142,
   "metadata": {},
   "outputs": [
    {
     "name": "stdout",
     "output_type": "stream",
     "text": [
      "[[1.49166815e-154 0.00000000e+000 0.00000000e+000 0.00000000e+000\n",
      "  0.00000000e+000]\n",
      " [0.00000000e+000 0.00000000e+000 2.50000000e-001 2.50000000e-001\n",
      "  2.50000000e-001]\n",
      " [0.00000000e+000 2.50000000e-001 0.00000000e+000 5.00000000e-001\n",
      "  5.00000000e-001]\n",
      " [0.00000000e+000 2.50000000e-001 5.00000000e-001 4.94065646e-323\n",
      "  7.50000000e-001]\n",
      " [0.00000000e+000 2.50000000e-001 5.00000000e-001 7.50000000e-001\n",
      "  0.00000000e+000]]\n"
     ]
    }
   ],
   "source": [
    "\"\"\" Dissimilarity matrix for age \"\"\"\n",
    "\n",
    "# Rank the persons from youngest to oldest\n",
    "mat_age = np.empty((len(persons),len(persons)))\n",
    "persons.sort(key=lambda self: self.age)\n",
    "\n",
    "for n in range(len(persons)):\n",
    "    for k in range(n+1,len(persons)):\n",
    "        z = n/(len(persons)-1)\n",
    "\n",
    "        mat_age[n][k] = z\n",
    "        mat_age[k][n] = z\n",
    "\n",
    "print(mat_age)\n"
   ]
  },
  {
   "cell_type": "code",
   "execution_count": 143,
   "metadata": {},
   "outputs": [
    {
     "name": "stdout",
     "output_type": "stream",
     "text": [
      "[[1.49166815e-154 0.00000000e+000 1.00000000e+000 1.00000000e+000\n",
      "  0.00000000e+000]\n",
      " [0.00000000e+000 0.00000000e+000 1.00000000e+000 1.00000000e+000\n",
      "  0.00000000e+000]\n",
      " [1.00000000e+000 1.00000000e+000 0.00000000e+000 0.00000000e+000\n",
      "  1.00000000e+000]\n",
      " [1.00000000e+000 1.00000000e+000 0.00000000e+000 4.94065646e-323\n",
      "  1.00000000e+000]\n",
      " [0.00000000e+000 0.00000000e+000 1.00000000e+000 1.00000000e+000\n",
      "  0.00000000e+000]]\n"
     ]
    }
   ],
   "source": [
    "\"\"\" Dissimilarity matrix for employment \"\"\"\n",
    "mat_employment = np.empty((len(persons),len(persons)))\n",
    "for n in range(len(persons)):\n",
    "    for k in range(n+1,len(persons)):\n",
    "        if persons[n].employed == persons[k].employed:\n",
    "            mat_employment[n][k] = 0\n",
    "            mat_employment[k][n] = 0\n",
    "        else: \n",
    "            mat_employment[n][k] = 1\n",
    "            mat_employment[k][n] = 1\n",
    "print(mat_employment)\n"
   ]
  },
  {
   "cell_type": "code",
   "execution_count": 144,
   "metadata": {},
   "outputs": [
    {
     "name": "stdout",
     "output_type": "stream",
     "text": [
      "[[1.49166815e-154 0.00000000e+000 8.91500000e+004 6.08290000e+004\n",
      "  0.00000000e+000]\n",
      " [0.00000000e+000 0.00000000e+000 8.91500000e+004 6.08290000e+004\n",
      "  0.00000000e+000]\n",
      " [8.91500000e+004 8.91500000e+004 0.00000000e+000 2.83210000e+004\n",
      "  8.91500000e+004]\n",
      " [6.08290000e+004 6.08290000e+004 2.83210000e+004 4.94065646e-323\n",
      "  6.08290000e+004]\n",
      " [0.00000000e+000 0.00000000e+000 8.91500000e+004 6.08290000e+004\n",
      "  0.00000000e+000]]\n"
     ]
    }
   ],
   "source": [
    "\"\"\" Dissimilarity matrix for age \"\"\"\n",
    "# Rank the persons from youngest to oldest\n",
    "persons.sort(key=lambda self: self.age)\n",
    "mat_income = np.empty((len(persons),len(persons)))\n",
    "for n in range(len(persons)):\n",
    "    for k in range(n+1,len(persons)):\n",
    "        z = spatial.distance.euclidean([persons[n].income], [persons[k].income])\n",
    "\n",
    "        mat_income[n][k] = z\n",
    "        mat_income[k][n] = z\n",
    "\n",
    "print(mat_income)\n"
   ]
  },
  {
   "cell_type": "code",
   "execution_count": 160,
   "metadata": {},
   "outputs": [
    {
     "name": "stdout",
     "output_type": "stream",
     "text": [
      "[[1.49166815e-154 4.00000000e-001 1.78306000e+004 1.21664000e+004\n",
      "  4.00000000e-001]\n",
      " [0.00000000e+000 0.00000000e+000 1.78306500e+004 1.21664500e+004\n",
      "  4.50000000e-001]\n",
      " [8.91500000e+004 8.91500000e+004 0.00000000e+000 5.66470000e+003\n",
      "  1.78307000e+004]\n",
      " [6.08290000e+004 6.08290000e+004 2.83210000e+004 4.94065646e-323\n",
      "  1.21665500e+004]\n",
      " [0.00000000e+000 0.00000000e+000 8.91500000e+004 6.08290000e+004\n",
      "  0.00000000e+000]]\n"
     ]
    }
   ],
   "source": [
    "\"\"\" For the agregate case \"\"\"\n",
    "matrices = [mat_age,mat_name, mat_employment, mat_income, mat_sex]\n",
    "cumulative_matrix = np.empty((len(matrices),len(matrices)))\n",
    "for n in range(len(matrices)):\n",
    "    for k in range(n,len(matrices)):\n",
    "        cumulative_matrix[n][k] = (mat_age[n][k] + mat_name[n][k] + mat_employment[n][k] + mat_income[n][k] + mat_sex[n][k])/len(matrices)\n",
    "    \n",
    "print(cumulative_matrix)"
   ]
  }
 ],
 "metadata": {
  "kernelspec": {
   "display_name": "Python 3.9.7 ('base')",
   "language": "python",
   "name": "python3"
  },
  "language_info": {
   "codemirror_mode": {
    "name": "ipython",
    "version": 3
   },
   "file_extension": ".py",
   "mimetype": "text/x-python",
   "name": "python",
   "nbconvert_exporter": "python",
   "pygments_lexer": "ipython3",
   "version": "3.9.7"
  },
  "orig_nbformat": 4,
  "vscode": {
   "interpreter": {
    "hash": "5959452a2d8c31939077882ca9b6dbba6e4583d5105b341c02132423769eaf01"
   }
  }
 },
 "nbformat": 4,
 "nbformat_minor": 2
}
