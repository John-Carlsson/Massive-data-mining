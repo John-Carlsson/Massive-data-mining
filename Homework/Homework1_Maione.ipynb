{
 "cells": [
  {
   "cell_type": "code",
   "execution_count": 11,
   "id": "6c1a833c",
   "metadata": {},
   "outputs": [],
   "source": [
    "\"\"\"Compute an approximate median value for the data.\"\"\"\n",
    "\n",
    "\n",
    "import numpy as np\n",
    "import pandas as pd\n",
    "from scipy import stats\n",
    "import statistics\n",
    "\n",
    "df = pd.DataFrame.from_dict({'age':[pd.Interval(left = 1, right = 5, closed = \"both\"), pd.Interval(left = 6, right = 15, closed = \"both\"), pd.Interval(left = 16, right = 20, closed = \"both\"), pd.Interval(left = 21, right = 50, closed = \"both\"), pd.Interval(left = 51, right = 80, closed = \"both\"), pd.Interval(left = 81, right = 110, closed = \"both\")], 'frequency':[200,450,300,1500,700,44]})"
   ]
  },
  {
   "cell_type": "code",
   "execution_count": 19,
   "id": "a915b0de",
   "metadata": {},
   "outputs": [
    {
     "data": {
      "text/html": [
       "<div>\n",
       "<style scoped>\n",
       "    .dataframe tbody tr th:only-of-type {\n",
       "        vertical-align: middle;\n",
       "    }\n",
       "\n",
       "    .dataframe tbody tr th {\n",
       "        vertical-align: top;\n",
       "    }\n",
       "\n",
       "    .dataframe thead th {\n",
       "        text-align: right;\n",
       "    }\n",
       "</style>\n",
       "<table border=\"1\" class=\"dataframe\">\n",
       "  <thead>\n",
       "    <tr style=\"text-align: right;\">\n",
       "      <th></th>\n",
       "      <th>age</th>\n",
       "      <th>frequency</th>\n",
       "    </tr>\n",
       "  </thead>\n",
       "  <tbody>\n",
       "    <tr>\n",
       "      <th>0</th>\n",
       "      <td>[1, 5]</td>\n",
       "      <td>200</td>\n",
       "    </tr>\n",
       "    <tr>\n",
       "      <th>1</th>\n",
       "      <td>[6, 15]</td>\n",
       "      <td>450</td>\n",
       "    </tr>\n",
       "    <tr>\n",
       "      <th>2</th>\n",
       "      <td>[16, 20]</td>\n",
       "      <td>300</td>\n",
       "    </tr>\n",
       "    <tr>\n",
       "      <th>3</th>\n",
       "      <td>[21, 50]</td>\n",
       "      <td>1500</td>\n",
       "    </tr>\n",
       "    <tr>\n",
       "      <th>4</th>\n",
       "      <td>[51, 80]</td>\n",
       "      <td>700</td>\n",
       "    </tr>\n",
       "    <tr>\n",
       "      <th>5</th>\n",
       "      <td>[81, 110]</td>\n",
       "      <td>44</td>\n",
       "    </tr>\n",
       "  </tbody>\n",
       "</table>\n",
       "</div>"
      ],
      "text/plain": [
       "         age  frequency\n",
       "0     [1, 5]        200\n",
       "1    [6, 15]        450\n",
       "2   [16, 20]        300\n",
       "3   [21, 50]       1500\n",
       "4   [51, 80]        700\n",
       "5  [81, 110]         44"
      ]
     },
     "execution_count": 19,
     "metadata": {},
     "output_type": "execute_result"
    }
   ],
   "source": [
    "df"
   ]
  },
  {
   "cell_type": "code",
   "execution_count": 12,
   "id": "d6d7f165",
   "metadata": {},
   "outputs": [],
   "source": [
    "#total number of frequency\n",
    "N = df[\"frequency\"].sum()"
   ]
  },
  {
   "cell_type": "code",
   "execution_count": 14,
   "id": "092afedc",
   "metadata": {},
   "outputs": [
    {
     "data": {
      "text/plain": [
       "20.5"
      ]
     },
     "execution_count": 14,
     "metadata": {},
     "output_type": "execute_result"
    }
   ],
   "source": [
    "#calculating lower limit median class (L1)\n",
    "L1 = statistics.median_grouped(df[\"age\"]).left\n",
    "print(L1)"
   ]
  },
  {
   "cell_type": "code",
   "execution_count": 21,
   "id": "f57e7a62",
   "metadata": {},
   "outputs": [],
   "source": [
    "#calculating cumulative sum\n",
    "cum_sum = sum(df[\"frequency\"][0:3])"
   ]
  },
  {
   "cell_type": "code",
   "execution_count": 16,
   "id": "9be0e659",
   "metadata": {},
   "outputs": [],
   "source": [
    "#calculating number of frequency on median class\n",
    "f = df[\"frequency\"][3]"
   ]
  },
  {
   "cell_type": "code",
   "execution_count": 20,
   "id": "a5cfc908",
   "metadata": {},
   "outputs": [],
   "source": [
    "#calculating width of median class\n",
    "width = df[\"age\"][3].length\n"
   ]
  },
  {
   "cell_type": "code",
   "execution_count": 24,
   "id": "e883e78b",
   "metadata": {},
   "outputs": [
    {
     "name": "stdout",
     "output_type": "stream",
     "text": [
      "The median is 33.51\n"
     ]
    }
   ],
   "source": [
    "median = (((N/2 - cum_sum)/f)*width) + L1\n",
    "\n",
    "print(\"The median is %.2f\" % median)"
   ]
  }
 ],
 "metadata": {
  "kernelspec": {
   "display_name": "Python 3 (ipykernel)",
   "language": "python",
   "name": "python3"
  },
  "language_info": {
   "codemirror_mode": {
    "name": "ipython",
    "version": 3
   },
   "file_extension": ".py",
   "mimetype": "text/x-python",
   "name": "python",
   "nbconvert_exporter": "python",
   "pygments_lexer": "ipython3",
   "version": "3.9.12"
  }
 },
 "nbformat": 4,
 "nbformat_minor": 5
}
