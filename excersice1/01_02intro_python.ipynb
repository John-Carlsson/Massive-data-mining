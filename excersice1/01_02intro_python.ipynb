{
 "cells": [
  {
   "cell_type": "markdown",
   "metadata": {
    "id": "CNV0Qejs_3tp"
   },
   "source": [
    "# 01intro_numpy"
   ]
  },
  {
   "cell_type": "code",
   "execution_count": 175,
   "metadata": {
    "colab": {
     "background_save": true
    },
    "id": "fz04294R_3tr"
   },
   "outputs": [
    {
     "name": "stdout",
     "output_type": "stream",
     "text": [
      "[1 2 3 4 5 6]\n",
      " d1 shape: (6,) \n",
      " d1 dimensions: 1\n",
      "\n"
     ]
    }
   ],
   "source": [
    "\"\"\"NumPy is a fundamental package for scientific computing with Python.\n",
    "It implements N-dimensional array objects with some matrix and linear algebra operation.\n",
    "Numpy provides the foundation for Python scientific data analisys with scipy.\"\"\"\n",
    "\n",
    "try:\n",
    "  from google.colab import files\n",
    "  g_colab = True\n",
    "except:\n",
    "  g_colab = False\n",
    "\n",
    "# Importing numpy\n",
    "import numpy as np        # numpy is written in C\n",
    "import scipy.stats  # some module for utilities\n",
    "\n",
    "# for high performace in data mining we need high performance data structures.\n",
    "# Python has an extension for numerical computing and linear algebra which\n",
    "# rely on a C implementation\n",
    "# declaring 1-dimension array \n",
    "d1 = np.array([1, 2, 3, 4, 5, 6])\n",
    "\n",
    "print(d1)\n",
    "# print the predefinite propeties *nshape* e *ndim*\n",
    "print(\" d1 shape: %s \\n d1 dimensions: %d\\n\" % (d1.shape, d1.ndim))"
   ]
  },
  {
   "cell_type": "code",
   "execution_count": 176,
   "metadata": {
    "colab": {
     "base_uri": "https://localhost:8080/"
    },
    "executionInfo": {
     "elapsed": 42,
     "status": "ok",
     "timestamp": 1633121442566,
     "user": {
      "displayName": "Domenico PARENTE",
      "photoUrl": "https://lh3.googleusercontent.com/a-/AOh14GiDpfmPZR9Ag6IQZEhX1LykT0fRQ5QZ8O-L5Px0PSdzqX3cSM2r0cp97IHdyyR2rrLe9rcaXxVyLUAcMVE7CtfZorHHfpUpV7DK40HiAQpetr3Ge76aakdXzaBfJxNBtJvLXSVW3PSBpKk5ZUbg-zx8Z9NSL4fVU75Qu5p3L0w_iMSKXjr7RzANlpTP-rXO1LXWkOqe3hhU0xWUb_ufrmIJnS5ZAhcXKmYrOEM1EgpL2Fb1ffCFOnNC3GjSTINL5jse4R4RPkL-2M4CpxB_l_BYpz_-YnIm0DjimcRHEkJLQ45bK6tkirz6rZnmSLRrsg3l43iDaBH0GvbbcuG-qlbnIves6Q_inpDaJ1O5qAcvgiveglb5oiOfawpqkZOvjxwZhStrM77kvjPw-q25ADbK2qiyESNOHnBnhEsg4HS2YT9wYpUKup-NdA0XNd986kq9QQffZtwPwcAde8xxr1ITysc56Drf55hS3MgzAhjeY-T72DUu3VcfOaAY-CPgsaX7TFSF-vFOb7ZVZ8UlY90z9skXRn2U8FdAd-ABCD_p4JGpgX5kbcPJYYhrBhlv20b3Rc8ujWOCsWLurwoJM_883W8UVHX6Gd2p3_62RRlavcrYoFDbpAgvw_rO07znUm2U4Qyn17KjRCPZTbkL9JSHF2ndSPpd81HjQaaJDmqnrtyT-eLpLXKhLx_HbKSjvt1PgedDzRVUjYY-pFS6jp8EpNyJciJ4vPWheyGPWJ5LN7DsmYIYQe5ARtCUxRQXGr3-7sk=s64",
      "userId": "17214328587002271229"
     },
     "user_tz": -120
    },
    "id": "BZhnSzLu_3t1",
    "outputId": "723ed654-d6ba-4440-89b1-3edc0fa1922b"
   },
   "outputs": [
    {
     "name": "stdout",
     "output_type": "stream",
     "text": [
      "[[1 2 3]\n",
      " [4 5 6]]\n",
      " d2 shape: (2, 3) \n",
      " d2 dimensions: 2\n",
      "\n"
     ]
    }
   ],
   "source": [
    "# declaring 2-dimensions array\n",
    "d2 = np.array([\n",
    "    [1, 2, 3],\n",
    "    [4, 5, 6]\n",
    "])\n",
    "\n",
    "print(d2)\n",
    "print(\" d2 shape: %s \\n d2 dimensions: %d\\n\" % (d2.shape, d2.ndim))"
   ]
  },
  {
   "cell_type": "code",
   "execution_count": 177,
   "metadata": {
    "colab": {
     "base_uri": "https://localhost:8080/"
    },
    "executionInfo": {
     "elapsed": 39,
     "status": "ok",
     "timestamp": 1633121442566,
     "user": {
      "displayName": "Domenico PARENTE",
      "photoUrl": "https://lh3.googleusercontent.com/a-/AOh14GiDpfmPZR9Ag6IQZEhX1LykT0fRQ5QZ8O-L5Px0PSdzqX3cSM2r0cp97IHdyyR2rrLe9rcaXxVyLUAcMVE7CtfZorHHfpUpV7DK40HiAQpetr3Ge76aakdXzaBfJxNBtJvLXSVW3PSBpKk5ZUbg-zx8Z9NSL4fVU75Qu5p3L0w_iMSKXjr7RzANlpTP-rXO1LXWkOqe3hhU0xWUb_ufrmIJnS5ZAhcXKmYrOEM1EgpL2Fb1ffCFOnNC3GjSTINL5jse4R4RPkL-2M4CpxB_l_BYpz_-YnIm0DjimcRHEkJLQ45bK6tkirz6rZnmSLRrsg3l43iDaBH0GvbbcuG-qlbnIves6Q_inpDaJ1O5qAcvgiveglb5oiOfawpqkZOvjxwZhStrM77kvjPw-q25ADbK2qiyESNOHnBnhEsg4HS2YT9wYpUKup-NdA0XNd986kq9QQffZtwPwcAde8xxr1ITysc56Drf55hS3MgzAhjeY-T72DUu3VcfOaAY-CPgsaX7TFSF-vFOb7ZVZ8UlY90z9skXRn2U8FdAd-ABCD_p4JGpgX5kbcPJYYhrBhlv20b3Rc8ujWOCsWLurwoJM_883W8UVHX6Gd2p3_62RRlavcrYoFDbpAgvw_rO07znUm2U4Qyn17KjRCPZTbkL9JSHF2ndSPpd81HjQaaJDmqnrtyT-eLpLXKhLx_HbKSjvt1PgedDzRVUjYY-pFS6jp8EpNyJciJ4vPWheyGPWJ5LN7DsmYIYQe5ARtCUxRQXGr3-7sk=s64",
      "userId": "17214328587002271229"
     },
     "user_tz": -120
    },
    "id": "lS2H8XT4_3t-",
    "outputId": "04de559a-b34c-4d2b-eeea-3ea6984fbff5"
   },
   "outputs": [
    {
     "name": "stdout",
     "output_type": "stream",
     "text": [
      "[[[ 1  2]\n",
      "  [ 3  4]\n",
      "  [ 5  6]]\n",
      "\n",
      " [[ 7  8]\n",
      "  [ 9 10]\n",
      "  [11 12]]]\n",
      " d3 shape: (2, 3, 2) \n",
      " d3 dimensions: 3\n",
      "\n"
     ]
    }
   ],
   "source": [
    "# declaring 3-dimensions array\n",
    "d3 = np.array([\n",
    "    [[1, 2], [3, 4], [5, 6]],\n",
    "    [[7, 8], [9, 10], [11, 12]]\n",
    "])\n",
    "print(d3)\n",
    "print(\" d3 shape: %s \\n d3 dimensions: %d\\n\" % (d3.shape, d3.ndim))"
   ]
  },
  {
   "cell_type": "code",
   "execution_count": 178,
   "metadata": {
    "colab": {
     "base_uri": "https://localhost:8080/"
    },
    "executionInfo": {
     "elapsed": 37,
     "status": "ok",
     "timestamp": 1633121442567,
     "user": {
      "displayName": "Domenico PARENTE",
      "photoUrl": "https://lh3.googleusercontent.com/a-/AOh14GiDpfmPZR9Ag6IQZEhX1LykT0fRQ5QZ8O-L5Px0PSdzqX3cSM2r0cp97IHdyyR2rrLe9rcaXxVyLUAcMVE7CtfZorHHfpUpV7DK40HiAQpetr3Ge76aakdXzaBfJxNBtJvLXSVW3PSBpKk5ZUbg-zx8Z9NSL4fVU75Qu5p3L0w_iMSKXjr7RzANlpTP-rXO1LXWkOqe3hhU0xWUb_ufrmIJnS5ZAhcXKmYrOEM1EgpL2Fb1ffCFOnNC3GjSTINL5jse4R4RPkL-2M4CpxB_l_BYpz_-YnIm0DjimcRHEkJLQ45bK6tkirz6rZnmSLRrsg3l43iDaBH0GvbbcuG-qlbnIves6Q_inpDaJ1O5qAcvgiveglb5oiOfawpqkZOvjxwZhStrM77kvjPw-q25ADbK2qiyESNOHnBnhEsg4HS2YT9wYpUKup-NdA0XNd986kq9QQffZtwPwcAde8xxr1ITysc56Drf55hS3MgzAhjeY-T72DUu3VcfOaAY-CPgsaX7TFSF-vFOb7ZVZ8UlY90z9skXRn2U8FdAd-ABCD_p4JGpgX5kbcPJYYhrBhlv20b3Rc8ujWOCsWLurwoJM_883W8UVHX6Gd2p3_62RRlavcrYoFDbpAgvw_rO07znUm2U4Qyn17KjRCPZTbkL9JSHF2ndSPpd81HjQaaJDmqnrtyT-eLpLXKhLx_HbKSjvt1PgedDzRVUjYY-pFS6jp8EpNyJciJ4vPWheyGPWJ5LN7DsmYIYQe5ARtCUxRQXGr3-7sk=s64",
      "userId": "17214328587002271229"
     },
     "user_tz": -120
    },
    "id": "ZZAV-YcK_3uE",
    "outputId": "7603fbd8-8068-4505-e86b-1c3bc9272569"
   },
   "outputs": [
    {
     "name": "stdout",
     "output_type": "stream",
     "text": [
      "d1 elements\n",
      "1\n",
      "2\n",
      "3\n",
      "4\n",
      "5\n",
      "6\n"
     ]
    }
   ],
   "source": [
    "# iterating over numpy array\n",
    "print(\"d1 elements\")\n",
    "for e in d1:\n",
    "    print(e)"
   ]
  },
  {
   "cell_type": "code",
   "execution_count": 179,
   "metadata": {
    "colab": {
     "base_uri": "https://localhost:8080/"
    },
    "executionInfo": {
     "elapsed": 34,
     "status": "ok",
     "timestamp": 1633121442567,
     "user": {
      "displayName": "Domenico PARENTE",
      "photoUrl": "https://lh3.googleusercontent.com/a-/AOh14GiDpfmPZR9Ag6IQZEhX1LykT0fRQ5QZ8O-L5Px0PSdzqX3cSM2r0cp97IHdyyR2rrLe9rcaXxVyLUAcMVE7CtfZorHHfpUpV7DK40HiAQpetr3Ge76aakdXzaBfJxNBtJvLXSVW3PSBpKk5ZUbg-zx8Z9NSL4fVU75Qu5p3L0w_iMSKXjr7RzANlpTP-rXO1LXWkOqe3hhU0xWUb_ufrmIJnS5ZAhcXKmYrOEM1EgpL2Fb1ffCFOnNC3GjSTINL5jse4R4RPkL-2M4CpxB_l_BYpz_-YnIm0DjimcRHEkJLQ45bK6tkirz6rZnmSLRrsg3l43iDaBH0GvbbcuG-qlbnIves6Q_inpDaJ1O5qAcvgiveglb5oiOfawpqkZOvjxwZhStrM77kvjPw-q25ADbK2qiyESNOHnBnhEsg4HS2YT9wYpUKup-NdA0XNd986kq9QQffZtwPwcAde8xxr1ITysc56Drf55hS3MgzAhjeY-T72DUu3VcfOaAY-CPgsaX7TFSF-vFOb7ZVZ8UlY90z9skXRn2U8FdAd-ABCD_p4JGpgX5kbcPJYYhrBhlv20b3Rc8ujWOCsWLurwoJM_883W8UVHX6Gd2p3_62RRlavcrYoFDbpAgvw_rO07znUm2U4Qyn17KjRCPZTbkL9JSHF2ndSPpd81HjQaaJDmqnrtyT-eLpLXKhLx_HbKSjvt1PgedDzRVUjYY-pFS6jp8EpNyJciJ4vPWheyGPWJ5LN7DsmYIYQe5ARtCUxRQXGr3-7sk=s64",
      "userId": "17214328587002271229"
     },
     "user_tz": -120
    },
    "id": "tISF7ttM_3uJ",
    "outputId": "f7108093-f21c-4f8e-a043-e2fb8ffec3f8"
   },
   "outputs": [
    {
     "name": "stdout",
     "output_type": "stream",
     "text": [
      "[1 2 3]\n",
      "[4 5 6]\n"
     ]
    }
   ],
   "source": [
    "for row in d2:\n",
    "    print(row)"
   ]
  },
  {
   "cell_type": "code",
   "execution_count": 180,
   "metadata": {
    "colab": {
     "base_uri": "https://localhost:8080/"
    },
    "executionInfo": {
     "elapsed": 31,
     "status": "ok",
     "timestamp": 1633121442568,
     "user": {
      "displayName": "Domenico PARENTE",
      "photoUrl": "https://lh3.googleusercontent.com/a-/AOh14GiDpfmPZR9Ag6IQZEhX1LykT0fRQ5QZ8O-L5Px0PSdzqX3cSM2r0cp97IHdyyR2rrLe9rcaXxVyLUAcMVE7CtfZorHHfpUpV7DK40HiAQpetr3Ge76aakdXzaBfJxNBtJvLXSVW3PSBpKk5ZUbg-zx8Z9NSL4fVU75Qu5p3L0w_iMSKXjr7RzANlpTP-rXO1LXWkOqe3hhU0xWUb_ufrmIJnS5ZAhcXKmYrOEM1EgpL2Fb1ffCFOnNC3GjSTINL5jse4R4RPkL-2M4CpxB_l_BYpz_-YnIm0DjimcRHEkJLQ45bK6tkirz6rZnmSLRrsg3l43iDaBH0GvbbcuG-qlbnIves6Q_inpDaJ1O5qAcvgiveglb5oiOfawpqkZOvjxwZhStrM77kvjPw-q25ADbK2qiyESNOHnBnhEsg4HS2YT9wYpUKup-NdA0XNd986kq9QQffZtwPwcAde8xxr1ITysc56Drf55hS3MgzAhjeY-T72DUu3VcfOaAY-CPgsaX7TFSF-vFOb7ZVZ8UlY90z9skXRn2U8FdAd-ABCD_p4JGpgX5kbcPJYYhrBhlv20b3Rc8ujWOCsWLurwoJM_883W8UVHX6Gd2p3_62RRlavcrYoFDbpAgvw_rO07znUm2U4Qyn17KjRCPZTbkL9JSHF2ndSPpd81HjQaaJDmqnrtyT-eLpLXKhLx_HbKSjvt1PgedDzRVUjYY-pFS6jp8EpNyJciJ4vPWheyGPWJ5LN7DsmYIYQe5ARtCUxRQXGr3-7sk=s64",
      "userId": "17214328587002271229"
     },
     "user_tz": -120
    },
    "id": "0DOerHZA_3uO",
    "outputId": "40a6375a-ff08-46d9-e6eb-65db73ccb0f7"
   },
   "outputs": [
    {
     "name": "stdout",
     "output_type": "stream",
     "text": [
      "\n",
      "d3 first axis\n",
      "[[1 2]\n",
      " [3 4]\n",
      " [5 6]]\n",
      "[[ 7  8]\n",
      " [ 9 10]\n",
      " [11 12]]\n"
     ]
    }
   ],
   "source": [
    "print(\"\\nd3 first axis\")\n",
    "\n",
    "for plane in d3:\n",
    "    print(plane)"
   ]
  },
  {
   "cell_type": "code",
   "execution_count": 181,
   "metadata": {
    "colab": {
     "base_uri": "https://localhost:8080/"
    },
    "executionInfo": {
     "elapsed": 28,
     "status": "ok",
     "timestamp": 1633121442568,
     "user": {
      "displayName": "Domenico PARENTE",
      "photoUrl": "https://lh3.googleusercontent.com/a-/AOh14GiDpfmPZR9Ag6IQZEhX1LykT0fRQ5QZ8O-L5Px0PSdzqX3cSM2r0cp97IHdyyR2rrLe9rcaXxVyLUAcMVE7CtfZorHHfpUpV7DK40HiAQpetr3Ge76aakdXzaBfJxNBtJvLXSVW3PSBpKk5ZUbg-zx8Z9NSL4fVU75Qu5p3L0w_iMSKXjr7RzANlpTP-rXO1LXWkOqe3hhU0xWUb_ufrmIJnS5ZAhcXKmYrOEM1EgpL2Fb1ffCFOnNC3GjSTINL5jse4R4RPkL-2M4CpxB_l_BYpz_-YnIm0DjimcRHEkJLQ45bK6tkirz6rZnmSLRrsg3l43iDaBH0GvbbcuG-qlbnIves6Q_inpDaJ1O5qAcvgiveglb5oiOfawpqkZOvjxwZhStrM77kvjPw-q25ADbK2qiyESNOHnBnhEsg4HS2YT9wYpUKup-NdA0XNd986kq9QQffZtwPwcAde8xxr1ITysc56Drf55hS3MgzAhjeY-T72DUu3VcfOaAY-CPgsaX7TFSF-vFOb7ZVZ8UlY90z9skXRn2U8FdAd-ABCD_p4JGpgX5kbcPJYYhrBhlv20b3Rc8ujWOCsWLurwoJM_883W8UVHX6Gd2p3_62RRlavcrYoFDbpAgvw_rO07znUm2U4Qyn17KjRCPZTbkL9JSHF2ndSPpd81HjQaaJDmqnrtyT-eLpLXKhLx_HbKSjvt1PgedDzRVUjYY-pFS6jp8EpNyJciJ4vPWheyGPWJ5LN7DsmYIYQe5ARtCUxRQXGr3-7sk=s64",
      "userId": "17214328587002271229"
     },
     "user_tz": -120
    },
    "id": "J_itzfte_3uU",
    "outputId": "645f66da-af8a-4826-e82e-34d0617afe5e"
   },
   "outputs": [
    {
     "name": "stdout",
     "output_type": "stream",
     "text": [
      "\n",
      "d2 elements\n",
      "1\n",
      "2\n",
      "3\n",
      "4\n",
      "5\n",
      "6\n"
     ]
    }
   ],
   "source": [
    "print(\"\\nd2 elements\")\n",
    "for row in d2:\n",
    "    for e in row:\n",
    "        print(e)"
   ]
  },
  {
   "cell_type": "code",
   "execution_count": 182,
   "metadata": {},
   "outputs": [
    {
     "name": "stdout",
     "output_type": "stream",
     "text": [
      "[1 2 3 4 5 6]\n"
     ]
    },
    {
     "data": {
      "text/plain": [
       "array([ 1,  4,  9, 16, 25, 36])"
      ]
     },
     "execution_count": 182,
     "metadata": {},
     "output_type": "execute_result"
    }
   ],
   "source": [
    "# functional programming: apply like\n",
    "\n",
    "vfunc = np.vectorize(lambda x: x**2)\n",
    "d1s = vfunc(d1)\n",
    "print(d1)\n",
    "d1s\n"
   ]
  },
  {
   "cell_type": "code",
   "execution_count": 183,
   "metadata": {
    "executionInfo": {
     "elapsed": 26,
     "status": "ok",
     "timestamp": 1633121442569,
     "user": {
      "displayName": "Domenico PARENTE",
      "photoUrl": "https://lh3.googleusercontent.com/a-/AOh14GiDpfmPZR9Ag6IQZEhX1LykT0fRQ5QZ8O-L5Px0PSdzqX3cSM2r0cp97IHdyyR2rrLe9rcaXxVyLUAcMVE7CtfZorHHfpUpV7DK40HiAQpetr3Ge76aakdXzaBfJxNBtJvLXSVW3PSBpKk5ZUbg-zx8Z9NSL4fVU75Qu5p3L0w_iMSKXjr7RzANlpTP-rXO1LXWkOqe3hhU0xWUb_ufrmIJnS5ZAhcXKmYrOEM1EgpL2Fb1ffCFOnNC3GjSTINL5jse4R4RPkL-2M4CpxB_l_BYpz_-YnIm0DjimcRHEkJLQ45bK6tkirz6rZnmSLRrsg3l43iDaBH0GvbbcuG-qlbnIves6Q_inpDaJ1O5qAcvgiveglb5oiOfawpqkZOvjxwZhStrM77kvjPw-q25ADbK2qiyESNOHnBnhEsg4HS2YT9wYpUKup-NdA0XNd986kq9QQffZtwPwcAde8xxr1ITysc56Drf55hS3MgzAhjeY-T72DUu3VcfOaAY-CPgsaX7TFSF-vFOb7ZVZ8UlY90z9skXRn2U8FdAd-ABCD_p4JGpgX5kbcPJYYhrBhlv20b3Rc8ujWOCsWLurwoJM_883W8UVHX6Gd2p3_62RRlavcrYoFDbpAgvw_rO07znUm2U4Qyn17KjRCPZTbkL9JSHF2ndSPpd81HjQaaJDmqnrtyT-eLpLXKhLx_HbKSjvt1PgedDzRVUjYY-pFS6jp8EpNyJciJ4vPWheyGPWJ5LN7DsmYIYQe5ARtCUxRQXGr3-7sk=s64",
      "userId": "17214328587002271229"
     },
     "user_tz": -120
    },
    "id": "_zGZ2Hbu_3ua"
   },
   "outputs": [],
   "source": [
    "# matrix operations componentwise\n",
    "d1a = np.array([10, 11, 12, 13, 14, 15])\n",
    "d2a = np.array([[10, 11], [12, 13], [14, 15]])\n",
    "d1b = np.array([10, 10, 20, 20, 10, 15])"
   ]
  },
  {
   "cell_type": "code",
   "execution_count": 184,
   "metadata": {
    "colab": {
     "base_uri": "https://localhost:8080/"
    },
    "executionInfo": {
     "elapsed": 24,
     "status": "ok",
     "timestamp": 1633121442569,
     "user": {
      "displayName": "Domenico PARENTE",
      "photoUrl": "https://lh3.googleusercontent.com/a-/AOh14GiDpfmPZR9Ag6IQZEhX1LykT0fRQ5QZ8O-L5Px0PSdzqX3cSM2r0cp97IHdyyR2rrLe9rcaXxVyLUAcMVE7CtfZorHHfpUpV7DK40HiAQpetr3Ge76aakdXzaBfJxNBtJvLXSVW3PSBpKk5ZUbg-zx8Z9NSL4fVU75Qu5p3L0w_iMSKXjr7RzANlpTP-rXO1LXWkOqe3hhU0xWUb_ufrmIJnS5ZAhcXKmYrOEM1EgpL2Fb1ffCFOnNC3GjSTINL5jse4R4RPkL-2M4CpxB_l_BYpz_-YnIm0DjimcRHEkJLQ45bK6tkirz6rZnmSLRrsg3l43iDaBH0GvbbcuG-qlbnIves6Q_inpDaJ1O5qAcvgiveglb5oiOfawpqkZOvjxwZhStrM77kvjPw-q25ADbK2qiyESNOHnBnhEsg4HS2YT9wYpUKup-NdA0XNd986kq9QQffZtwPwcAde8xxr1ITysc56Drf55hS3MgzAhjeY-T72DUu3VcfOaAY-CPgsaX7TFSF-vFOb7ZVZ8UlY90z9skXRn2U8FdAd-ABCD_p4JGpgX5kbcPJYYhrBhlv20b3Rc8ujWOCsWLurwoJM_883W8UVHX6Gd2p3_62RRlavcrYoFDbpAgvw_rO07znUm2U4Qyn17KjRCPZTbkL9JSHF2ndSPpd81HjQaaJDmqnrtyT-eLpLXKhLx_HbKSjvt1PgedDzRVUjYY-pFS6jp8EpNyJciJ4vPWheyGPWJ5LN7DsmYIYQe5ARtCUxRQXGr3-7sk=s64",
      "userId": "17214328587002271229"
     },
     "user_tz": -120
    },
    "id": "VnYzXnfh_3ug",
    "outputId": "e4ef821e-65da-4988-b4e0-fc99a1469f77"
   },
   "outputs": [
    {
     "name": "stdout",
     "output_type": "stream",
     "text": [
      "\n",
      "d1 - d1a:\n",
      "[-9 -9 -9 -9 -9 -9]\n"
     ]
    }
   ],
   "source": [
    "diff = d1 - d1a  \n",
    "print(\"\\nd1 - d1a:\\n%s\" % diff)"
   ]
  },
  {
   "cell_type": "code",
   "execution_count": 185,
   "metadata": {
    "colab": {
     "base_uri": "https://localhost:8080/"
    },
    "executionInfo": {
     "elapsed": 22,
     "status": "ok",
     "timestamp": 1633121442570,
     "user": {
      "displayName": "Domenico PARENTE",
      "photoUrl": "https://lh3.googleusercontent.com/a-/AOh14GiDpfmPZR9Ag6IQZEhX1LykT0fRQ5QZ8O-L5Px0PSdzqX3cSM2r0cp97IHdyyR2rrLe9rcaXxVyLUAcMVE7CtfZorHHfpUpV7DK40HiAQpetr3Ge76aakdXzaBfJxNBtJvLXSVW3PSBpKk5ZUbg-zx8Z9NSL4fVU75Qu5p3L0w_iMSKXjr7RzANlpTP-rXO1LXWkOqe3hhU0xWUb_ufrmIJnS5ZAhcXKmYrOEM1EgpL2Fb1ffCFOnNC3GjSTINL5jse4R4RPkL-2M4CpxB_l_BYpz_-YnIm0DjimcRHEkJLQ45bK6tkirz6rZnmSLRrsg3l43iDaBH0GvbbcuG-qlbnIves6Q_inpDaJ1O5qAcvgiveglb5oiOfawpqkZOvjxwZhStrM77kvjPw-q25ADbK2qiyESNOHnBnhEsg4HS2YT9wYpUKup-NdA0XNd986kq9QQffZtwPwcAde8xxr1ITysc56Drf55hS3MgzAhjeY-T72DUu3VcfOaAY-CPgsaX7TFSF-vFOb7ZVZ8UlY90z9skXRn2U8FdAd-ABCD_p4JGpgX5kbcPJYYhrBhlv20b3Rc8ujWOCsWLurwoJM_883W8UVHX6Gd2p3_62RRlavcrYoFDbpAgvw_rO07znUm2U4Qyn17KjRCPZTbkL9JSHF2ndSPpd81HjQaaJDmqnrtyT-eLpLXKhLx_HbKSjvt1PgedDzRVUjYY-pFS6jp8EpNyJciJ4vPWheyGPWJ5LN7DsmYIYQe5ARtCUxRQXGr3-7sk=s64",
      "userId": "17214328587002271229"
     },
     "user_tz": -120
    },
    "id": "lJcF8OHU_3ur",
    "outputId": "bac4c41b-c111-4c13-9b69-1c6b4c35f0b9"
   },
   "outputs": [
    {
     "name": "stdout",
     "output_type": "stream",
     "text": [
      "\n",
      "d1 + d1a:\n",
      "[11 13 15 17 19 21]\n"
     ]
    }
   ],
   "source": [
    "add = d1 + d1a\n",
    "print(\"\\nd1 + d1a:\\n%s\" % add)"
   ]
  },
  {
   "cell_type": "code",
   "execution_count": 186,
   "metadata": {
    "colab": {
     "base_uri": "https://localhost:8080/"
    },
    "executionInfo": {
     "elapsed": 19,
     "status": "ok",
     "timestamp": 1633121442570,
     "user": {
      "displayName": "Domenico PARENTE",
      "photoUrl": "https://lh3.googleusercontent.com/a-/AOh14GiDpfmPZR9Ag6IQZEhX1LykT0fRQ5QZ8O-L5Px0PSdzqX3cSM2r0cp97IHdyyR2rrLe9rcaXxVyLUAcMVE7CtfZorHHfpUpV7DK40HiAQpetr3Ge76aakdXzaBfJxNBtJvLXSVW3PSBpKk5ZUbg-zx8Z9NSL4fVU75Qu5p3L0w_iMSKXjr7RzANlpTP-rXO1LXWkOqe3hhU0xWUb_ufrmIJnS5ZAhcXKmYrOEM1EgpL2Fb1ffCFOnNC3GjSTINL5jse4R4RPkL-2M4CpxB_l_BYpz_-YnIm0DjimcRHEkJLQ45bK6tkirz6rZnmSLRrsg3l43iDaBH0GvbbcuG-qlbnIves6Q_inpDaJ1O5qAcvgiveglb5oiOfawpqkZOvjxwZhStrM77kvjPw-q25ADbK2qiyESNOHnBnhEsg4HS2YT9wYpUKup-NdA0XNd986kq9QQffZtwPwcAde8xxr1ITysc56Drf55hS3MgzAhjeY-T72DUu3VcfOaAY-CPgsaX7TFSF-vFOb7ZVZ8UlY90z9skXRn2U8FdAd-ABCD_p4JGpgX5kbcPJYYhrBhlv20b3Rc8ujWOCsWLurwoJM_883W8UVHX6Gd2p3_62RRlavcrYoFDbpAgvw_rO07znUm2U4Qyn17KjRCPZTbkL9JSHF2ndSPpd81HjQaaJDmqnrtyT-eLpLXKhLx_HbKSjvt1PgedDzRVUjYY-pFS6jp8EpNyJciJ4vPWheyGPWJ5LN7DsmYIYQe5ARtCUxRQXGr3-7sk=s64",
      "userId": "17214328587002271229"
     },
     "user_tz": -120
    },
    "id": "gUT-BHFv_3uv",
    "outputId": "ca23182c-10c0-4b4d-9205-4542b1292df6"
   },
   "outputs": [
    {
     "name": "stdout",
     "output_type": "stream",
     "text": [
      "\n",
      "d1 * d1a:\n",
      "[10 22 36 52 70 90]\n"
     ]
    }
   ],
   "source": [
    "mult = d1 * d1a\n",
    "print(\"\\nd1 * d1a:\\n%s\" % mult)"
   ]
  },
  {
   "cell_type": "code",
   "execution_count": 187,
   "metadata": {
    "colab": {
     "base_uri": "https://localhost:8080/"
    },
    "executionInfo": {
     "elapsed": 18,
     "status": "ok",
     "timestamp": 1633121442571,
     "user": {
      "displayName": "Domenico PARENTE",
      "photoUrl": "https://lh3.googleusercontent.com/a-/AOh14GiDpfmPZR9Ag6IQZEhX1LykT0fRQ5QZ8O-L5Px0PSdzqX3cSM2r0cp97IHdyyR2rrLe9rcaXxVyLUAcMVE7CtfZorHHfpUpV7DK40HiAQpetr3Ge76aakdXzaBfJxNBtJvLXSVW3PSBpKk5ZUbg-zx8Z9NSL4fVU75Qu5p3L0w_iMSKXjr7RzANlpTP-rXO1LXWkOqe3hhU0xWUb_ufrmIJnS5ZAhcXKmYrOEM1EgpL2Fb1ffCFOnNC3GjSTINL5jse4R4RPkL-2M4CpxB_l_BYpz_-YnIm0DjimcRHEkJLQ45bK6tkirz6rZnmSLRrsg3l43iDaBH0GvbbcuG-qlbnIves6Q_inpDaJ1O5qAcvgiveglb5oiOfawpqkZOvjxwZhStrM77kvjPw-q25ADbK2qiyESNOHnBnhEsg4HS2YT9wYpUKup-NdA0XNd986kq9QQffZtwPwcAde8xxr1ITysc56Drf55hS3MgzAhjeY-T72DUu3VcfOaAY-CPgsaX7TFSF-vFOb7ZVZ8UlY90z9skXRn2U8FdAd-ABCD_p4JGpgX5kbcPJYYhrBhlv20b3Rc8ujWOCsWLurwoJM_883W8UVHX6Gd2p3_62RRlavcrYoFDbpAgvw_rO07znUm2U4Qyn17KjRCPZTbkL9JSHF2ndSPpd81HjQaaJDmqnrtyT-eLpLXKhLx_HbKSjvt1PgedDzRVUjYY-pFS6jp8EpNyJciJ4vPWheyGPWJ5LN7DsmYIYQe5ARtCUxRQXGr3-7sk=s64",
      "userId": "17214328587002271229"
     },
     "user_tz": -120
    },
    "id": "ygpbqsuE_3u0",
    "outputId": "3f2c5c93-4819-4d9b-f379-8f2bf18b4024"
   },
   "outputs": [
    {
     "name": "stdout",
     "output_type": "stream",
     "text": [
      "\n",
      "d1^2:\n",
      "[ 1  4  9 16 25 36]\n"
     ]
    }
   ],
   "source": [
    "sq = d1**2\n",
    "print(\"\\nd1^2:\\n%s\" % sq)"
   ]
  },
  {
   "cell_type": "code",
   "execution_count": 188,
   "metadata": {
    "colab": {
     "base_uri": "https://localhost:8080/"
    },
    "executionInfo": {
     "elapsed": 16,
     "status": "ok",
     "timestamp": 1633121442571,
     "user": {
      "displayName": "Domenico PARENTE",
      "photoUrl": "https://lh3.googleusercontent.com/a-/AOh14GiDpfmPZR9Ag6IQZEhX1LykT0fRQ5QZ8O-L5Px0PSdzqX3cSM2r0cp97IHdyyR2rrLe9rcaXxVyLUAcMVE7CtfZorHHfpUpV7DK40HiAQpetr3Ge76aakdXzaBfJxNBtJvLXSVW3PSBpKk5ZUbg-zx8Z9NSL4fVU75Qu5p3L0w_iMSKXjr7RzANlpTP-rXO1LXWkOqe3hhU0xWUb_ufrmIJnS5ZAhcXKmYrOEM1EgpL2Fb1ffCFOnNC3GjSTINL5jse4R4RPkL-2M4CpxB_l_BYpz_-YnIm0DjimcRHEkJLQ45bK6tkirz6rZnmSLRrsg3l43iDaBH0GvbbcuG-qlbnIves6Q_inpDaJ1O5qAcvgiveglb5oiOfawpqkZOvjxwZhStrM77kvjPw-q25ADbK2qiyESNOHnBnhEsg4HS2YT9wYpUKup-NdA0XNd986kq9QQffZtwPwcAde8xxr1ITysc56Drf55hS3MgzAhjeY-T72DUu3VcfOaAY-CPgsaX7TFSF-vFOb7ZVZ8UlY90z9skXRn2U8FdAd-ABCD_p4JGpgX5kbcPJYYhrBhlv20b3Rc8ujWOCsWLurwoJM_883W8UVHX6Gd2p3_62RRlavcrYoFDbpAgvw_rO07znUm2U4Qyn17KjRCPZTbkL9JSHF2ndSPpd81HjQaaJDmqnrtyT-eLpLXKhLx_HbKSjvt1PgedDzRVUjYY-pFS6jp8EpNyJciJ4vPWheyGPWJ5LN7DsmYIYQe5ARtCUxRQXGr3-7sk=s64",
      "userId": "17214328587002271229"
     },
     "user_tz": -120
    },
    "id": "FVsY_OJM_3u4",
    "outputId": "4f6b8f03-bb2f-40a4-bc15-e0bddccab5c4"
   },
   "outputs": [
    {
     "name": "stdout",
     "output_type": "stream",
     "text": [
      "\n",
      "d1 min: 1.00\n"
     ]
    }
   ],
   "source": [
    "# some numpy algorithm\n",
    "print(\"\\nd1 min: %.2f\" % np.min(d1))"
   ]
  },
  {
   "cell_type": "code",
   "execution_count": 189,
   "metadata": {
    "colab": {
     "base_uri": "https://localhost:8080/"
    },
    "executionInfo": {
     "elapsed": 16,
     "status": "ok",
     "timestamp": 1633121442572,
     "user": {
      "displayName": "Domenico PARENTE",
      "photoUrl": "https://lh3.googleusercontent.com/a-/AOh14GiDpfmPZR9Ag6IQZEhX1LykT0fRQ5QZ8O-L5Px0PSdzqX3cSM2r0cp97IHdyyR2rrLe9rcaXxVyLUAcMVE7CtfZorHHfpUpV7DK40HiAQpetr3Ge76aakdXzaBfJxNBtJvLXSVW3PSBpKk5ZUbg-zx8Z9NSL4fVU75Qu5p3L0w_iMSKXjr7RzANlpTP-rXO1LXWkOqe3hhU0xWUb_ufrmIJnS5ZAhcXKmYrOEM1EgpL2Fb1ffCFOnNC3GjSTINL5jse4R4RPkL-2M4CpxB_l_BYpz_-YnIm0DjimcRHEkJLQ45bK6tkirz6rZnmSLRrsg3l43iDaBH0GvbbcuG-qlbnIves6Q_inpDaJ1O5qAcvgiveglb5oiOfawpqkZOvjxwZhStrM77kvjPw-q25ADbK2qiyESNOHnBnhEsg4HS2YT9wYpUKup-NdA0XNd986kq9QQffZtwPwcAde8xxr1ITysc56Drf55hS3MgzAhjeY-T72DUu3VcfOaAY-CPgsaX7TFSF-vFOb7ZVZ8UlY90z9skXRn2U8FdAd-ABCD_p4JGpgX5kbcPJYYhrBhlv20b3Rc8ujWOCsWLurwoJM_883W8UVHX6Gd2p3_62RRlavcrYoFDbpAgvw_rO07znUm2U4Qyn17KjRCPZTbkL9JSHF2ndSPpd81HjQaaJDmqnrtyT-eLpLXKhLx_HbKSjvt1PgedDzRVUjYY-pFS6jp8EpNyJciJ4vPWheyGPWJ5LN7DsmYIYQe5ARtCUxRQXGr3-7sk=s64",
      "userId": "17214328587002271229"
     },
     "user_tz": -120
    },
    "id": "zpo3teQp_3u9",
    "outputId": "4c5a6a6e-f01e-4dc8-81e8-42c530b7a0e6"
   },
   "outputs": [
    {
     "name": "stdout",
     "output_type": "stream",
     "text": [
      "d1 max: 6.00\n"
     ]
    }
   ],
   "source": [
    "print(\"d1 max: %.2f\" % np.max(d1))"
   ]
  },
  {
   "cell_type": "code",
   "execution_count": 190,
   "metadata": {
    "colab": {
     "base_uri": "https://localhost:8080/"
    },
    "executionInfo": {
     "elapsed": 6,
     "status": "ok",
     "timestamp": 1633121442836,
     "user": {
      "displayName": "Domenico PARENTE",
      "photoUrl": "https://lh3.googleusercontent.com/a-/AOh14GiDpfmPZR9Ag6IQZEhX1LykT0fRQ5QZ8O-L5Px0PSdzqX3cSM2r0cp97IHdyyR2rrLe9rcaXxVyLUAcMVE7CtfZorHHfpUpV7DK40HiAQpetr3Ge76aakdXzaBfJxNBtJvLXSVW3PSBpKk5ZUbg-zx8Z9NSL4fVU75Qu5p3L0w_iMSKXjr7RzANlpTP-rXO1LXWkOqe3hhU0xWUb_ufrmIJnS5ZAhcXKmYrOEM1EgpL2Fb1ffCFOnNC3GjSTINL5jse4R4RPkL-2M4CpxB_l_BYpz_-YnIm0DjimcRHEkJLQ45bK6tkirz6rZnmSLRrsg3l43iDaBH0GvbbcuG-qlbnIves6Q_inpDaJ1O5qAcvgiveglb5oiOfawpqkZOvjxwZhStrM77kvjPw-q25ADbK2qiyESNOHnBnhEsg4HS2YT9wYpUKup-NdA0XNd986kq9QQffZtwPwcAde8xxr1ITysc56Drf55hS3MgzAhjeY-T72DUu3VcfOaAY-CPgsaX7TFSF-vFOb7ZVZ8UlY90z9skXRn2U8FdAd-ABCD_p4JGpgX5kbcPJYYhrBhlv20b3Rc8ujWOCsWLurwoJM_883W8UVHX6Gd2p3_62RRlavcrYoFDbpAgvw_rO07znUm2U4Qyn17KjRCPZTbkL9JSHF2ndSPpd81HjQaaJDmqnrtyT-eLpLXKhLx_HbKSjvt1PgedDzRVUjYY-pFS6jp8EpNyJciJ4vPWheyGPWJ5LN7DsmYIYQe5ARtCUxRQXGr3-7sk=s64",
      "userId": "17214328587002271229"
     },
     "user_tz": -120
    },
    "id": "Xv0kU-R0_3vA",
    "outputId": "9c08a6fc-21b9-460d-d330-280a42b9fc2e"
   },
   "outputs": [
    {
     "name": "stdout",
     "output_type": "stream",
     "text": [
      "d1 mean: 3.50\n"
     ]
    }
   ],
   "source": [
    "print(\"d1 mean: %.2f\" % np.mean(d1))"
   ]
  },
  {
   "cell_type": "code",
   "execution_count": 191,
   "metadata": {
    "colab": {
     "base_uri": "https://localhost:8080/"
    },
    "executionInfo": {
     "elapsed": 5,
     "status": "ok",
     "timestamp": 1633121442837,
     "user": {
      "displayName": "Domenico PARENTE",
      "photoUrl": "https://lh3.googleusercontent.com/a-/AOh14GiDpfmPZR9Ag6IQZEhX1LykT0fRQ5QZ8O-L5Px0PSdzqX3cSM2r0cp97IHdyyR2rrLe9rcaXxVyLUAcMVE7CtfZorHHfpUpV7DK40HiAQpetr3Ge76aakdXzaBfJxNBtJvLXSVW3PSBpKk5ZUbg-zx8Z9NSL4fVU75Qu5p3L0w_iMSKXjr7RzANlpTP-rXO1LXWkOqe3hhU0xWUb_ufrmIJnS5ZAhcXKmYrOEM1EgpL2Fb1ffCFOnNC3GjSTINL5jse4R4RPkL-2M4CpxB_l_BYpz_-YnIm0DjimcRHEkJLQ45bK6tkirz6rZnmSLRrsg3l43iDaBH0GvbbcuG-qlbnIves6Q_inpDaJ1O5qAcvgiveglb5oiOfawpqkZOvjxwZhStrM77kvjPw-q25ADbK2qiyESNOHnBnhEsg4HS2YT9wYpUKup-NdA0XNd986kq9QQffZtwPwcAde8xxr1ITysc56Drf55hS3MgzAhjeY-T72DUu3VcfOaAY-CPgsaX7TFSF-vFOb7ZVZ8UlY90z9skXRn2U8FdAd-ABCD_p4JGpgX5kbcPJYYhrBhlv20b3Rc8ujWOCsWLurwoJM_883W8UVHX6Gd2p3_62RRlavcrYoFDbpAgvw_rO07znUm2U4Qyn17KjRCPZTbkL9JSHF2ndSPpd81HjQaaJDmqnrtyT-eLpLXKhLx_HbKSjvt1PgedDzRVUjYY-pFS6jp8EpNyJciJ4vPWheyGPWJ5LN7DsmYIYQe5ARtCUxRQXGr3-7sk=s64",
      "userId": "17214328587002271229"
     },
     "user_tz": -120
    },
    "id": "dHgtFPrA_3vE",
    "outputId": "b4b1bc35-3b1f-4389-fcd0-01f2298e7ac4"
   },
   "outputs": [
    {
     "name": "stdout",
     "output_type": "stream",
     "text": [
      "d1 median: 3.50\n"
     ]
    }
   ],
   "source": [
    "print(\"d1 median: %.2f\" % np.median(d1))"
   ]
  },
  {
   "cell_type": "code",
   "execution_count": 192,
   "metadata": {
    "colab": {
     "base_uri": "https://localhost:8080/"
    },
    "executionInfo": {
     "elapsed": 4,
     "status": "ok",
     "timestamp": 1633121442837,
     "user": {
      "displayName": "Domenico PARENTE",
      "photoUrl": "https://lh3.googleusercontent.com/a-/AOh14GiDpfmPZR9Ag6IQZEhX1LykT0fRQ5QZ8O-L5Px0PSdzqX3cSM2r0cp97IHdyyR2rrLe9rcaXxVyLUAcMVE7CtfZorHHfpUpV7DK40HiAQpetr3Ge76aakdXzaBfJxNBtJvLXSVW3PSBpKk5ZUbg-zx8Z9NSL4fVU75Qu5p3L0w_iMSKXjr7RzANlpTP-rXO1LXWkOqe3hhU0xWUb_ufrmIJnS5ZAhcXKmYrOEM1EgpL2Fb1ffCFOnNC3GjSTINL5jse4R4RPkL-2M4CpxB_l_BYpz_-YnIm0DjimcRHEkJLQ45bK6tkirz6rZnmSLRrsg3l43iDaBH0GvbbcuG-qlbnIves6Q_inpDaJ1O5qAcvgiveglb5oiOfawpqkZOvjxwZhStrM77kvjPw-q25ADbK2qiyESNOHnBnhEsg4HS2YT9wYpUKup-NdA0XNd986kq9QQffZtwPwcAde8xxr1ITysc56Drf55hS3MgzAhjeY-T72DUu3VcfOaAY-CPgsaX7TFSF-vFOb7ZVZ8UlY90z9skXRn2U8FdAd-ABCD_p4JGpgX5kbcPJYYhrBhlv20b3Rc8ujWOCsWLurwoJM_883W8UVHX6Gd2p3_62RRlavcrYoFDbpAgvw_rO07znUm2U4Qyn17KjRCPZTbkL9JSHF2ndSPpd81HjQaaJDmqnrtyT-eLpLXKhLx_HbKSjvt1PgedDzRVUjYY-pFS6jp8EpNyJciJ4vPWheyGPWJ5LN7DsmYIYQe5ARtCUxRQXGr3-7sk=s64",
      "userId": "17214328587002271229"
     },
     "user_tz": -120
    },
    "id": "e4Srj9JI_3vH",
    "outputId": "47cc4984-6fe0-461a-884f-85ae38fe5620"
   },
   "outputs": [
    {
     "name": "stdout",
     "output_type": "stream",
     "text": [
      "d1 mode: ModeResult(mode=array([1]), count=array([1]))\n"
     ]
    }
   ],
   "source": [
    "print(\"d1 mode: %s\" % str(scipy.stats.mode(d1)))"
   ]
  },
  {
   "cell_type": "code",
   "execution_count": 193,
   "metadata": {
    "colab": {
     "base_uri": "https://localhost:8080/"
    },
    "executionInfo": {
     "elapsed": 3,
     "status": "ok",
     "timestamp": 1633121442837,
     "user": {
      "displayName": "Domenico PARENTE",
      "photoUrl": "https://lh3.googleusercontent.com/a-/AOh14GiDpfmPZR9Ag6IQZEhX1LykT0fRQ5QZ8O-L5Px0PSdzqX3cSM2r0cp97IHdyyR2rrLe9rcaXxVyLUAcMVE7CtfZorHHfpUpV7DK40HiAQpetr3Ge76aakdXzaBfJxNBtJvLXSVW3PSBpKk5ZUbg-zx8Z9NSL4fVU75Qu5p3L0w_iMSKXjr7RzANlpTP-rXO1LXWkOqe3hhU0xWUb_ufrmIJnS5ZAhcXKmYrOEM1EgpL2Fb1ffCFOnNC3GjSTINL5jse4R4RPkL-2M4CpxB_l_BYpz_-YnIm0DjimcRHEkJLQ45bK6tkirz6rZnmSLRrsg3l43iDaBH0GvbbcuG-qlbnIves6Q_inpDaJ1O5qAcvgiveglb5oiOfawpqkZOvjxwZhStrM77kvjPw-q25ADbK2qiyESNOHnBnhEsg4HS2YT9wYpUKup-NdA0XNd986kq9QQffZtwPwcAde8xxr1ITysc56Drf55hS3MgzAhjeY-T72DUu3VcfOaAY-CPgsaX7TFSF-vFOb7ZVZ8UlY90z9skXRn2U8FdAd-ABCD_p4JGpgX5kbcPJYYhrBhlv20b3Rc8ujWOCsWLurwoJM_883W8UVHX6Gd2p3_62RRlavcrYoFDbpAgvw_rO07znUm2U4Qyn17KjRCPZTbkL9JSHF2ndSPpd81HjQaaJDmqnrtyT-eLpLXKhLx_HbKSjvt1PgedDzRVUjYY-pFS6jp8EpNyJciJ4vPWheyGPWJ5LN7DsmYIYQe5ARtCUxRQXGr3-7sk=s64",
      "userId": "17214328587002271229"
     },
     "user_tz": -120
    },
    "id": "fbpLm-Z9_3vK",
    "outputId": "bfa7e90d-bb87-4de7-8843-79f46148c287"
   },
   "outputs": [
    {
     "name": "stdout",
     "output_type": "stream",
     "text": [
      "d1b mode: ModeResult(mode=array([10]), count=array([3]))\n"
     ]
    }
   ],
   "source": [
    "d1b = np.array([10, 10, 20, 20, 10, 15])\n",
    "print(\"d1b mode: %s\" % str(scipy.stats.mode(d1b)))  # bug: it is not multi-modal"
   ]
  },
  {
   "cell_type": "markdown",
   "metadata": {
    "id": "A7lTtlPl_3vN"
   },
   "source": [
    "# 02intro_pandas"
   ]
  },
  {
   "cell_type": "code",
   "execution_count": 194,
   "metadata": {
    "colab": {
     "background_save": true,
     "base_uri": "https://localhost:8080/",
     "height": 0,
     "resources": {
      "http://localhost:8080/nbextensions/google.colab/files.js": {
       "data": "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",
       "headers": [
        [
         "content-type",
         "application/javascript"
        ]
       ],
       "ok": true,
       "status": 200,
       "status_text": ""
      }
     }
    },
    "id": "aA5P-_uv_3vO"
   },
   "outputs": [
    {
     "data": {
      "text/html": [
       "<div>\n",
       "<style scoped>\n",
       "    .dataframe tbody tr th:only-of-type {\n",
       "        vertical-align: middle;\n",
       "    }\n",
       "\n",
       "    .dataframe tbody tr th {\n",
       "        vertical-align: top;\n",
       "    }\n",
       "\n",
       "    .dataframe thead th {\n",
       "        text-align: right;\n",
       "    }\n",
       "</style>\n",
       "<table border=\"1\" class=\"dataframe\">\n",
       "  <thead>\n",
       "    <tr style=\"text-align: right;\">\n",
       "      <th></th>\n",
       "      <th>name</th>\n",
       "      <th>surname</th>\n",
       "      <th>age</th>\n",
       "      <th>height</th>\n",
       "      <th>weight</th>\n",
       "    </tr>\n",
       "  </thead>\n",
       "  <tbody>\n",
       "    <tr>\n",
       "      <th>0</th>\n",
       "      <td>mario</td>\n",
       "      <td>rossi</td>\n",
       "      <td>1</td>\n",
       "      <td>65.0</td>\n",
       "      <td>12.0</td>\n",
       "    </tr>\n",
       "    <tr>\n",
       "      <th>1</th>\n",
       "      <td>giorgio</td>\n",
       "      <td>bianchi</td>\n",
       "      <td>2</td>\n",
       "      <td>69.0</td>\n",
       "      <td>15.0</td>\n",
       "    </tr>\n",
       "    <tr>\n",
       "      <th>2</th>\n",
       "      <td>antonio</td>\n",
       "      <td>verdi</td>\n",
       "      <td>1</td>\n",
       "      <td>60.0</td>\n",
       "      <td>11.0</td>\n",
       "    </tr>\n",
       "    <tr>\n",
       "      <th>3</th>\n",
       "      <td>maria</td>\n",
       "      <td>bianchi</td>\n",
       "      <td>3</td>\n",
       "      <td>100.0</td>\n",
       "      <td>18.0</td>\n",
       "    </tr>\n",
       "    <tr>\n",
       "      <th>4</th>\n",
       "      <td>giulia</td>\n",
       "      <td>gialli</td>\n",
       "      <td>1</td>\n",
       "      <td>55.0</td>\n",
       "      <td>11.0</td>\n",
       "    </tr>\n",
       "    <tr>\n",
       "      <th>5</th>\n",
       "      <td>francesco</td>\n",
       "      <td>rossi</td>\n",
       "      <td>2</td>\n",
       "      <td>63.0</td>\n",
       "      <td>14.0</td>\n",
       "    </tr>\n",
       "    <tr>\n",
       "      <th>6</th>\n",
       "      <td>piero</td>\n",
       "      <td>\"rossi\"</td>\n",
       "      <td>3</td>\n",
       "      <td>NaN</td>\n",
       "      <td>NaN</td>\n",
       "    </tr>\n",
       "    <tr>\n",
       "      <th>7</th>\n",
       "      <td>gaia</td>\n",
       "      <td>verdi</td>\n",
       "      <td>3</td>\n",
       "      <td>95.0</td>\n",
       "      <td>19.0</td>\n",
       "    </tr>\n",
       "    <tr>\n",
       "      <th>8</th>\n",
       "      <td>chiara</td>\n",
       "      <td>esposito</td>\n",
       "      <td>2</td>\n",
       "      <td>67.0</td>\n",
       "      <td>17.0</td>\n",
       "    </tr>\n",
       "  </tbody>\n",
       "</table>\n",
       "</div>"
      ],
      "text/plain": [
       "        name   surname  age  height  weight\n",
       "0      mario     rossi    1    65.0    12.0\n",
       "1    giorgio   bianchi    2    69.0    15.0\n",
       "2    antonio     verdi    1    60.0    11.0\n",
       "3      maria   bianchi    3   100.0    18.0\n",
       "4     giulia    gialli    1    55.0    11.0\n",
       "5  francesco     rossi    2    63.0    14.0\n",
       "6      piero   \"rossi\"    3     NaN     NaN\n",
       "7       gaia     verdi    3    95.0    19.0\n",
       "8     chiara  esposito    2    67.0    17.0"
      ]
     },
     "execution_count": 194,
     "metadata": {},
     "output_type": "execute_result"
    }
   ],
   "source": [
    "\"\"\"\n",
    "Pandas is an high level python package to work with CSV (Comma Separated Values) datasets. It is heavily based on Numpy.\n",
    "We use it to load dataset from CSV files, clean up data, iterate thru them, convert them to numpy array.\n",
    "\"\"\"\n",
    "\n",
    "# importing pandas, a csv file format reader and lot more\n",
    "import pandas as pd\n",
    "\n",
    "file_name = \"sample.csv\"\n",
    "\n",
    "if g_colab:\n",
    "  uploaded = files.upload()\n",
    "  import io\n",
    "  dataset = pd.read_csv(io.BytesIO(uploaded[file_name]))\n",
    "else:\n",
    "  # loading csv\n",
    "  dataset = pd.read_csv(file_name)\n",
    "\n",
    "dataset"
   ]
  },
  {
   "cell_type": "code",
   "execution_count": 195,
   "metadata": {
    "colab": {
     "background_save": true
    },
    "id": "bXkF_j6f_3vQ"
   },
   "outputs": [
    {
     "data": {
      "text/plain": [
       "Index(['name', 'surname', 'age', 'height', 'weight'], dtype='object')"
      ]
     },
     "execution_count": 195,
     "metadata": {},
     "output_type": "execute_result"
    }
   ],
   "source": [
    "# printout column headers\n",
    "dataset.columns"
   ]
  },
  {
   "cell_type": "code",
   "execution_count": 196,
   "metadata": {},
   "outputs": [
    {
     "name": "stdout",
     "output_type": "stream",
     "text": [
      "dataset has 9 rows\n"
     ]
    }
   ],
   "source": [
    "print(\"dataset has %d rows\" % len(dataset))"
   ]
  },
  {
   "cell_type": "code",
   "execution_count": 197,
   "metadata": {
    "colab": {
     "background_save": true
    },
    "id": "1KdrEAxW_3vU"
   },
   "outputs": [
    {
     "data": {
      "text/html": [
       "<div>\n",
       "<style scoped>\n",
       "    .dataframe tbody tr th:only-of-type {\n",
       "        vertical-align: middle;\n",
       "    }\n",
       "\n",
       "    .dataframe tbody tr th {\n",
       "        vertical-align: top;\n",
       "    }\n",
       "\n",
       "    .dataframe thead th {\n",
       "        text-align: right;\n",
       "    }\n",
       "</style>\n",
       "<table border=\"1\" class=\"dataframe\">\n",
       "  <thead>\n",
       "    <tr style=\"text-align: right;\">\n",
       "      <th></th>\n",
       "      <th>age</th>\n",
       "      <th>height</th>\n",
       "      <th>weight</th>\n",
       "    </tr>\n",
       "  </thead>\n",
       "  <tbody>\n",
       "    <tr>\n",
       "      <th>0</th>\n",
       "      <td>1</td>\n",
       "      <td>65.0</td>\n",
       "      <td>12.0</td>\n",
       "    </tr>\n",
       "    <tr>\n",
       "      <th>1</th>\n",
       "      <td>2</td>\n",
       "      <td>69.0</td>\n",
       "      <td>15.0</td>\n",
       "    </tr>\n",
       "    <tr>\n",
       "      <th>2</th>\n",
       "      <td>1</td>\n",
       "      <td>60.0</td>\n",
       "      <td>11.0</td>\n",
       "    </tr>\n",
       "    <tr>\n",
       "      <th>3</th>\n",
       "      <td>3</td>\n",
       "      <td>100.0</td>\n",
       "      <td>18.0</td>\n",
       "    </tr>\n",
       "    <tr>\n",
       "      <th>4</th>\n",
       "      <td>1</td>\n",
       "      <td>55.0</td>\n",
       "      <td>11.0</td>\n",
       "    </tr>\n",
       "    <tr>\n",
       "      <th>5</th>\n",
       "      <td>2</td>\n",
       "      <td>63.0</td>\n",
       "      <td>14.0</td>\n",
       "    </tr>\n",
       "    <tr>\n",
       "      <th>6</th>\n",
       "      <td>3</td>\n",
       "      <td>NaN</td>\n",
       "      <td>NaN</td>\n",
       "    </tr>\n",
       "    <tr>\n",
       "      <th>7</th>\n",
       "      <td>3</td>\n",
       "      <td>95.0</td>\n",
       "      <td>19.0</td>\n",
       "    </tr>\n",
       "    <tr>\n",
       "      <th>8</th>\n",
       "      <td>2</td>\n",
       "      <td>67.0</td>\n",
       "      <td>17.0</td>\n",
       "    </tr>\n",
       "  </tbody>\n",
       "</table>\n",
       "</div>"
      ],
      "text/plain": [
       "   age  height  weight\n",
       "0    1    65.0    12.0\n",
       "1    2    69.0    15.0\n",
       "2    1    60.0    11.0\n",
       "3    3   100.0    18.0\n",
       "4    1    55.0    11.0\n",
       "5    2    63.0    14.0\n",
       "6    3     NaN     NaN\n",
       "7    3    95.0    19.0\n",
       "8    2    67.0    17.0"
      ]
     },
     "execution_count": 197,
     "metadata": {},
     "output_type": "execute_result"
    }
   ],
   "source": [
    "# selecting columns\n",
    "\n",
    "# get anonymized numerical data only\n",
    "dataset_anon = dataset.drop(columns=[\"name\", \"surname\"])\n",
    "# note that the file is not saved, the modification are in RAM\n",
    "\n",
    "dataset_anon"
   ]
  },
  {
   "cell_type": "code",
   "execution_count": 198,
   "metadata": {
    "colab": {
     "background_save": true
    },
    "id": "OLbrSHWe_3vY"
   },
   "outputs": [
    {
     "name": "stdout",
     "output_type": "stream",
     "text": [
      "            age      height     weight\n",
      "count  9.000000    8.000000   8.000000\n",
      "mean   2.000000   71.750000  14.625000\n",
      "std    0.866025   16.516226   3.159453\n",
      "min    1.000000   55.000000  11.000000\n",
      "25%    1.000000   62.250000  11.750000\n",
      "50%    2.000000   66.000000  14.500000\n",
      "75%    3.000000   75.500000  17.250000\n",
      "max    3.000000  100.000000  19.000000\n"
     ]
    }
   ],
   "source": [
    "# printout dataset summary\n",
    "print(dataset.describe())"
   ]
  },
  {
   "cell_type": "code",
   "execution_count": 199,
   "metadata": {
    "colab": {
     "background_save": true
    },
    "id": "jN1ZOW5c_3vc"
   },
   "outputs": [
    {
     "name": "stdout",
     "output_type": "stream",
     "text": [
      "\n",
      "We have 9 sample data (row number)\n"
     ]
    }
   ],
   "source": [
    "print(\"\\nWe have %d sample data (row number)\" % len(dataset))"
   ]
  },
  {
   "cell_type": "code",
   "execution_count": 200,
   "metadata": {
    "colab": {
     "background_save": true
    },
    "id": "EVjaDsII_3vf"
   },
   "outputs": [
    {
     "name": "stdout",
     "output_type": "stream",
     "text": [
      "We have 8 sample after cleanup\n"
     ]
    },
    {
     "name": "stderr",
     "output_type": "stream",
     "text": [
      "/var/folders/22/q9sp07116yn8szmswxprfhz40000gn/T/ipykernel_71690/1550192372.py:2: FutureWarning: In a future version of pandas all arguments of DataFrame.dropna will be keyword-only\n",
      "  dataset_c1 = dataset.dropna(0)\n"
     ]
    },
    {
     "data": {
      "text/html": [
       "<div>\n",
       "<style scoped>\n",
       "    .dataframe tbody tr th:only-of-type {\n",
       "        vertical-align: middle;\n",
       "    }\n",
       "\n",
       "    .dataframe tbody tr th {\n",
       "        vertical-align: top;\n",
       "    }\n",
       "\n",
       "    .dataframe thead th {\n",
       "        text-align: right;\n",
       "    }\n",
       "</style>\n",
       "<table border=\"1\" class=\"dataframe\">\n",
       "  <thead>\n",
       "    <tr style=\"text-align: right;\">\n",
       "      <th></th>\n",
       "      <th>name</th>\n",
       "      <th>surname</th>\n",
       "      <th>age</th>\n",
       "      <th>height</th>\n",
       "      <th>weight</th>\n",
       "    </tr>\n",
       "  </thead>\n",
       "  <tbody>\n",
       "    <tr>\n",
       "      <th>0</th>\n",
       "      <td>mario</td>\n",
       "      <td>rossi</td>\n",
       "      <td>1</td>\n",
       "      <td>65.0</td>\n",
       "      <td>12.0</td>\n",
       "    </tr>\n",
       "    <tr>\n",
       "      <th>1</th>\n",
       "      <td>giorgio</td>\n",
       "      <td>bianchi</td>\n",
       "      <td>2</td>\n",
       "      <td>69.0</td>\n",
       "      <td>15.0</td>\n",
       "    </tr>\n",
       "    <tr>\n",
       "      <th>2</th>\n",
       "      <td>antonio</td>\n",
       "      <td>verdi</td>\n",
       "      <td>1</td>\n",
       "      <td>60.0</td>\n",
       "      <td>11.0</td>\n",
       "    </tr>\n",
       "    <tr>\n",
       "      <th>3</th>\n",
       "      <td>maria</td>\n",
       "      <td>bianchi</td>\n",
       "      <td>3</td>\n",
       "      <td>100.0</td>\n",
       "      <td>18.0</td>\n",
       "    </tr>\n",
       "    <tr>\n",
       "      <th>4</th>\n",
       "      <td>giulia</td>\n",
       "      <td>gialli</td>\n",
       "      <td>1</td>\n",
       "      <td>55.0</td>\n",
       "      <td>11.0</td>\n",
       "    </tr>\n",
       "    <tr>\n",
       "      <th>5</th>\n",
       "      <td>francesco</td>\n",
       "      <td>rossi</td>\n",
       "      <td>2</td>\n",
       "      <td>63.0</td>\n",
       "      <td>14.0</td>\n",
       "    </tr>\n",
       "    <tr>\n",
       "      <th>7</th>\n",
       "      <td>gaia</td>\n",
       "      <td>verdi</td>\n",
       "      <td>3</td>\n",
       "      <td>95.0</td>\n",
       "      <td>19.0</td>\n",
       "    </tr>\n",
       "    <tr>\n",
       "      <th>8</th>\n",
       "      <td>chiara</td>\n",
       "      <td>esposito</td>\n",
       "      <td>2</td>\n",
       "      <td>67.0</td>\n",
       "      <td>17.0</td>\n",
       "    </tr>\n",
       "  </tbody>\n",
       "</table>\n",
       "</div>"
      ],
      "text/plain": [
       "        name   surname  age  height  weight\n",
       "0      mario     rossi    1    65.0    12.0\n",
       "1    giorgio   bianchi    2    69.0    15.0\n",
       "2    antonio     verdi    1    60.0    11.0\n",
       "3      maria   bianchi    3   100.0    18.0\n",
       "4     giulia    gialli    1    55.0    11.0\n",
       "5  francesco     rossi    2    63.0    14.0\n",
       "7       gaia     verdi    3    95.0    19.0\n",
       "8     chiara  esposito    2    67.0    17.0"
      ]
     },
     "execution_count": 200,
     "metadata": {},
     "output_type": "execute_result"
    }
   ],
   "source": [
    "# clean all row with Nan values, it will cause issues later. See pandas doc.\n",
    "dataset_c1 = dataset.dropna(0)\n",
    "\n",
    "print(\"We have %d sample after cleanup\" % len(dataset_c1))\n",
    "dataset_c1"
   ]
  },
  {
   "cell_type": "code",
   "execution_count": 201,
   "metadata": {},
   "outputs": [
    {
     "data": {
      "text/html": [
       "<div>\n",
       "<style scoped>\n",
       "    .dataframe tbody tr th:only-of-type {\n",
       "        vertical-align: middle;\n",
       "    }\n",
       "\n",
       "    .dataframe tbody tr th {\n",
       "        vertical-align: top;\n",
       "    }\n",
       "\n",
       "    .dataframe thead th {\n",
       "        text-align: right;\n",
       "    }\n",
       "</style>\n",
       "<table border=\"1\" class=\"dataframe\">\n",
       "  <thead>\n",
       "    <tr style=\"text-align: right;\">\n",
       "      <th></th>\n",
       "      <th>name</th>\n",
       "      <th>surname</th>\n",
       "      <th>age</th>\n",
       "      <th>height</th>\n",
       "      <th>weight</th>\n",
       "    </tr>\n",
       "  </thead>\n",
       "  <tbody>\n",
       "    <tr>\n",
       "      <th>0</th>\n",
       "      <td>mario</td>\n",
       "      <td>rossi</td>\n",
       "      <td>1</td>\n",
       "      <td>65.0</td>\n",
       "      <td>12.0</td>\n",
       "    </tr>\n",
       "    <tr>\n",
       "      <th>1</th>\n",
       "      <td>giorgio</td>\n",
       "      <td>bianchi</td>\n",
       "      <td>2</td>\n",
       "      <td>69.0</td>\n",
       "      <td>15.0</td>\n",
       "    </tr>\n",
       "    <tr>\n",
       "      <th>2</th>\n",
       "      <td>antonio</td>\n",
       "      <td>verdi</td>\n",
       "      <td>1</td>\n",
       "      <td>60.0</td>\n",
       "      <td>11.0</td>\n",
       "    </tr>\n",
       "    <tr>\n",
       "      <th>3</th>\n",
       "      <td>maria</td>\n",
       "      <td>bianchi</td>\n",
       "      <td>3</td>\n",
       "      <td>100.0</td>\n",
       "      <td>18.0</td>\n",
       "    </tr>\n",
       "    <tr>\n",
       "      <th>4</th>\n",
       "      <td>giulia</td>\n",
       "      <td>gialli</td>\n",
       "      <td>1</td>\n",
       "      <td>55.0</td>\n",
       "      <td>11.0</td>\n",
       "    </tr>\n",
       "    <tr>\n",
       "      <th>5</th>\n",
       "      <td>francesco</td>\n",
       "      <td>rossi</td>\n",
       "      <td>2</td>\n",
       "      <td>63.0</td>\n",
       "      <td>14.0</td>\n",
       "    </tr>\n",
       "    <tr>\n",
       "      <th>6</th>\n",
       "      <td>piero</td>\n",
       "      <td>\"rossi\"</td>\n",
       "      <td>3</td>\n",
       "      <td>1.0</td>\n",
       "      <td>1.0</td>\n",
       "    </tr>\n",
       "    <tr>\n",
       "      <th>7</th>\n",
       "      <td>gaia</td>\n",
       "      <td>verdi</td>\n",
       "      <td>3</td>\n",
       "      <td>95.0</td>\n",
       "      <td>19.0</td>\n",
       "    </tr>\n",
       "    <tr>\n",
       "      <th>8</th>\n",
       "      <td>chiara</td>\n",
       "      <td>esposito</td>\n",
       "      <td>2</td>\n",
       "      <td>67.0</td>\n",
       "      <td>17.0</td>\n",
       "    </tr>\n",
       "  </tbody>\n",
       "</table>\n",
       "</div>"
      ],
      "text/plain": [
       "        name   surname  age  height  weight\n",
       "0      mario     rossi    1    65.0    12.0\n",
       "1    giorgio   bianchi    2    69.0    15.0\n",
       "2    antonio     verdi    1    60.0    11.0\n",
       "3      maria   bianchi    3   100.0    18.0\n",
       "4     giulia    gialli    1    55.0    11.0\n",
       "5  francesco     rossi    2    63.0    14.0\n",
       "6      piero   \"rossi\"    3     1.0     1.0\n",
       "7       gaia     verdi    3    95.0    19.0\n",
       "8     chiara  esposito    2    67.0    17.0"
      ]
     },
     "execution_count": 201,
     "metadata": {},
     "output_type": "execute_result"
    }
   ],
   "source": [
    "# fill up Nan with new values\n",
    "dataset_c2 = dataset.fillna(1)\n",
    "dataset_c2"
   ]
  },
  {
   "cell_type": "code",
   "execution_count": 202,
   "metadata": {},
   "outputs": [],
   "source": [
    "# fill up Nan with new values\n",
    "dataset_c2 = dataset.fillna({'height': 45, 'weight': 12})\n",
    "# better estimate for nan?\n"
   ]
  },
  {
   "cell_type": "code",
   "execution_count": 203,
   "metadata": {
    "colab": {
     "background_save": true
    },
    "id": "-U6Q4OgP_3vi"
   },
   "outputs": [
    {
     "name": "stdout",
     "output_type": "stream",
     "text": [
      "1, 65, 12\n",
      "2, 69, 15\n",
      "1, 60, 11\n",
      "3, 100, 18\n",
      "1, 55, 11\n",
      "2, 63, 14\n"
     ]
    },
    {
     "ename": "ValueError",
     "evalue": "cannot convert float NaN to integer",
     "output_type": "error",
     "traceback": [
      "\u001b[0;31m---------------------------------------------------------------------------\u001b[0m",
      "\u001b[0;31mValueError\u001b[0m                                Traceback (most recent call last)",
      "\u001b[0;32m/var/folders/22/q9sp07116yn8szmswxprfhz40000gn/T/ipykernel_71690/766739136.py\u001b[0m in \u001b[0;36m<module>\u001b[0;34m\u001b[0m\n\u001b[1;32m      1\u001b[0m \u001b[0;31m# iterate over pandas dataset rows\u001b[0m\u001b[0;34m\u001b[0m\u001b[0;34m\u001b[0m\u001b[0m\n\u001b[1;32m      2\u001b[0m \u001b[0;32mfor\u001b[0m \u001b[0mrow\u001b[0m \u001b[0;32min\u001b[0m \u001b[0mdataset\u001b[0m\u001b[0;34m.\u001b[0m\u001b[0mitertuples\u001b[0m\u001b[0;34m(\u001b[0m\u001b[0;34m)\u001b[0m\u001b[0;34m:\u001b[0m\u001b[0;34m\u001b[0m\u001b[0;34m\u001b[0m\u001b[0m\n\u001b[0;32m----> 3\u001b[0;31m     \u001b[0mprint\u001b[0m\u001b[0;34m(\u001b[0m\u001b[0;34m\"%d, %d, %d\"\u001b[0m \u001b[0;34m%\u001b[0m\u001b[0;34m(\u001b[0m\u001b[0mrow\u001b[0m\u001b[0;34m.\u001b[0m\u001b[0mage\u001b[0m\u001b[0;34m,\u001b[0m \u001b[0mrow\u001b[0m\u001b[0;34m.\u001b[0m\u001b[0mheight\u001b[0m\u001b[0;34m,\u001b[0m \u001b[0mrow\u001b[0m\u001b[0;34m.\u001b[0m\u001b[0mweight\u001b[0m\u001b[0;34m)\u001b[0m\u001b[0;34m)\u001b[0m  \u001b[0;31m# you can access every colum in a row through his column name\u001b[0m\u001b[0;34m\u001b[0m\u001b[0;34m\u001b[0m\u001b[0m\n\u001b[0m",
      "\u001b[0;31mValueError\u001b[0m: cannot convert float NaN to integer"
     ]
    }
   ],
   "source": [
    "# iterate over pandas dataset rows\n",
    "for row in dataset.itertuples():\n",
    "    print(\"%d, %d, %d\" %(row.age, row.height, row.weight))  # you can access every colum in a row through his column name"
   ]
  },
  {
   "cell_type": "code",
   "execution_count": null,
   "metadata": {
    "colab": {
     "background_save": true
    },
    "id": "20wQpS0J_3vk"
   },
   "outputs": [
    {
     "name": "stdout",
     "output_type": "stream",
     "text": [
      "-- 1, 65, 12\n",
      "-- 2, 69, 15\n",
      "-- 1, 60, 11\n",
      "-- 3, 100, 18\n",
      "-- 1, 55, 11\n",
      "-- 2, 63, 14\n",
      "-- 3, 45, 12\n",
      "-- 3, 95, 19\n",
      "-- 2, 67, 17\n"
     ]
    }
   ],
   "source": [
    "# the same of above, but with apply syntax\n",
    "def print_row(row):\n",
    "    print(\"-- %d, %d, %d\" %(row.age, row.height, row.weight))\n",
    "\n",
    "# assign returned value to variable to avoid jupyter print them out\n",
    "a = dataset.apply(print_row, axis=1)  # with axis = 1 we get columns by name\n",
    "                                      # try axis = 0"
   ]
  },
  {
   "cell_type": "code",
   "execution_count": null,
   "metadata": {
    "colab": {
     "background_save": true
    },
    "id": "NCDbFjB9_3vo",
    "scrolled": true
   },
   "outputs": [
    {
     "name": "stdout",
     "output_type": "stream",
     "text": [
      "[ 65.  69.  60. 100.  55.  63.  45.  95.  67.]\n",
      "65.0\n",
      "69.0\n",
      "60.0\n",
      "100.0\n",
      "55.0\n",
      "63.0\n",
      "45.0\n",
      "95.0\n",
      "67.0\n"
     ]
    }
   ],
   "source": [
    "# we got a numpy array for height column\n",
    "height = np.array(dataset['height'].values)\n",
    "# now you can use numpy methods on the height data\n",
    "print(height)\n",
    "\n",
    "for e in height:\n",
    "    print(e)\n"
   ]
  },
  {
   "cell_type": "code",
   "execution_count": null,
   "metadata": {
    "colab": {
     "background_save": true
    },
    "id": "tGZHBce0_3vs"
   },
   "outputs": [
    {
     "data": {
      "text/html": [
       "<div>\n",
       "<style scoped>\n",
       "    .dataframe tbody tr th:only-of-type {\n",
       "        vertical-align: middle;\n",
       "    }\n",
       "\n",
       "    .dataframe tbody tr th {\n",
       "        vertical-align: top;\n",
       "    }\n",
       "\n",
       "    .dataframe thead th {\n",
       "        text-align: right;\n",
       "    }\n",
       "</style>\n",
       "<table border=\"1\" class=\"dataframe\">\n",
       "  <thead>\n",
       "    <tr style=\"text-align: right;\">\n",
       "      <th></th>\n",
       "      <th>name</th>\n",
       "      <th>surname</th>\n",
       "      <th>age</th>\n",
       "      <th>height</th>\n",
       "      <th>weight</th>\n",
       "    </tr>\n",
       "  </thead>\n",
       "  <tbody>\n",
       "    <tr>\n",
       "      <th>3</th>\n",
       "      <td>maria</td>\n",
       "      <td>bianchi</td>\n",
       "      <td>3</td>\n",
       "      <td>100.0</td>\n",
       "      <td>18.0</td>\n",
       "    </tr>\n",
       "    <tr>\n",
       "      <th>6</th>\n",
       "      <td>piero</td>\n",
       "      <td>\"rossi\"</td>\n",
       "      <td>3</td>\n",
       "      <td>95.0</td>\n",
       "      <td>NaN</td>\n",
       "    </tr>\n",
       "    <tr>\n",
       "      <th>7</th>\n",
       "      <td>gaia</td>\n",
       "      <td>verdi</td>\n",
       "      <td>3</td>\n",
       "      <td>95.0</td>\n",
       "      <td>19.0</td>\n",
       "    </tr>\n",
       "  </tbody>\n",
       "</table>\n",
       "</div>"
      ],
      "text/plain": [
       "    name   surname  age  height  weight\n",
       "3  maria   bianchi    3   100.0    18.0\n",
       "6  piero   \"rossi\"    3    95.0     NaN\n",
       "7   gaia     verdi    3    95.0    19.0"
      ]
     },
     "execution_count": 93,
     "metadata": {},
     "output_type": "execute_result"
    }
   ],
   "source": [
    "# filtering out row in a dataset\n",
    "# selecting people with age > 2\n",
    "\n",
    "gt2 = dataset[dataset['age'] > 2]\n",
    "gt2\n",
    "\n",
    "# the statement \"dataset['age'] > 2\" returns an Pandas Series object which is a subclass \n",
    "# of numpy ndarray with some other features\n",
    "# let's try them\n",
    "# a = dataset['age'] < 3\n",
    "# a"
   ]
  },
  {
   "cell_type": "code",
   "execution_count": null,
   "metadata": {
    "colab": {
     "background_save": true
    },
    "id": "OBjtP1-pNpxW"
   },
   "outputs": [
    {
     "data": {
      "text/html": [
       "<div>\n",
       "<style scoped>\n",
       "    .dataframe tbody tr th:only-of-type {\n",
       "        vertical-align: middle;\n",
       "    }\n",
       "\n",
       "    .dataframe tbody tr th {\n",
       "        vertical-align: top;\n",
       "    }\n",
       "\n",
       "    .dataframe thead th {\n",
       "        text-align: right;\n",
       "    }\n",
       "</style>\n",
       "<table border=\"1\" class=\"dataframe\">\n",
       "  <thead>\n",
       "    <tr style=\"text-align: right;\">\n",
       "      <th></th>\n",
       "      <th>name</th>\n",
       "      <th>surname</th>\n",
       "      <th>age</th>\n",
       "      <th>height</th>\n",
       "      <th>weight</th>\n",
       "    </tr>\n",
       "  </thead>\n",
       "  <tbody>\n",
       "    <tr>\n",
       "      <th>0</th>\n",
       "      <td>mario</td>\n",
       "      <td>rossi</td>\n",
       "      <td>1</td>\n",
       "      <td>65.0</td>\n",
       "      <td>12.0</td>\n",
       "    </tr>\n",
       "    <tr>\n",
       "      <th>1</th>\n",
       "      <td>giorgio</td>\n",
       "      <td>bianchi</td>\n",
       "      <td>2</td>\n",
       "      <td>69.0</td>\n",
       "      <td>15.0</td>\n",
       "    </tr>\n",
       "    <tr>\n",
       "      <th>5</th>\n",
       "      <td>francesco</td>\n",
       "      <td>rossi</td>\n",
       "      <td>2</td>\n",
       "      <td>63.0</td>\n",
       "      <td>14.0</td>\n",
       "    </tr>\n",
       "    <tr>\n",
       "      <th>8</th>\n",
       "      <td>chiara</td>\n",
       "      <td>esposito</td>\n",
       "      <td>2</td>\n",
       "      <td>67.0</td>\n",
       "      <td>17.0</td>\n",
       "    </tr>\n",
       "  </tbody>\n",
       "</table>\n",
       "</div>"
      ],
      "text/plain": [
       "        name   surname  age  height  weight\n",
       "0      mario     rossi    1    65.0    12.0\n",
       "1    giorgio   bianchi    2    69.0    15.0\n",
       "5  francesco     rossi    2    63.0    14.0\n",
       "8     chiara  esposito    2    67.0    17.0"
      ]
     },
     "execution_count": 94,
     "metadata": {},
     "output_type": "execute_result"
    }
   ],
   "source": [
    "# filter conditions can be orred or ended\n",
    "# remember to wrap condition in parentheses\n",
    "filtered = dataset[(dataset['age'] < 3) & (dataset['weight'] > 11)]\n",
    "filtered"
   ]
  },
  {
   "cell_type": "code",
   "execution_count": 227,
   "metadata": {
    "colab": {
     "background_save": true
    },
    "id": "dOp7Cu8MNpxX"
   },
   "outputs": [
    {
     "name": "stdout",
     "output_type": "stream",
     "text": [
      "        name   surname  age  height  weight\n",
      "0      mario     rossi    1    65.0    12.0\n",
      "1    giorgio   bianchi    2    69.0    15.0\n",
      "2    antonio     verdi    1    60.0    11.0\n",
      "3      maria   bianchi    3   100.0    18.0\n",
      "4     giulia    gialli    1    55.0    11.0\n",
      "5  francesco     rossi    2    63.0    14.0\n",
      "6      piero   \"rossi\"    3    55.0    11.0\n",
      "7       gaia     verdi    3    95.0    19.0\n",
      "8     chiara  esposito    2    67.0    17.0\n"
     ]
    }
   ],
   "source": [
    "# As excercise replace the nan in the dataset with the moda of the attribute\n",
    "modes = dataset.mode(0)\n",
    "print(dataset.fillna({'height': modes['height'][0], 'weight': modes['weight'][0]}))\n"
   ]
  }
 ],
 "metadata": {
  "colab": {
   "name": "01_02intro_python.ipynb",
   "provenance": [
    {
     "file_id": "136zejrQ0PAtWK1r18QQW2NxWbm0K-N-e",
     "timestamp": 1601455629410
    }
   ],
   "version": ""
  },
  "kernelspec": {
   "display_name": "Python 3.9.7 ('base')",
   "language": "python",
   "name": "python3"
  },
  "language_info": {
   "codemirror_mode": {
    "name": "ipython",
    "version": 3
   },
   "file_extension": ".py",
   "mimetype": "text/x-python",
   "name": "python",
   "nbconvert_exporter": "python",
   "pygments_lexer": "ipython3",
   "version": "3.9.7"
  },
  "vscode": {
   "interpreter": {
    "hash": "5959452a2d8c31939077882ca9b6dbba6e4583d5105b341c02132423769eaf01"
   }
  }
 },
 "nbformat": 4,
 "nbformat_minor": 1
}
