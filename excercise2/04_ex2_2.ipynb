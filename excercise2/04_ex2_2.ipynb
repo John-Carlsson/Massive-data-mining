{
 "cells": [
  {
   "cell_type": "markdown",
   "metadata": {},
   "source": [
    "# 04_ex_2_2\n",
    "\n",
    "2 Suppose that the data for analysis includes the attribute age. The age values for the data\n",
    "tuples are (in increasing order) 13, 15, 16, 16, 19, 20, 20, 21, 22, 22, 25, 25, 25, 25, 30,\n",
    "33, 33, 35, 35, 35, 35, 36, 40, 45, 46, 52, 70.\n",
    "\n",
    "(a) What is the mean of the data? What is the median?\n",
    "(b) What is the mode of the data? Comment on the data’s modality (i.e., bimodal,\n",
    "trimodal, etc.).\n",
    "(c) What is the midrange of the data?\n",
    "(d) Can you find (roughly) the first quartile (Q1 ) and the third quartile (Q3 ) of the data?\n",
    "(e) Give the five-number summary of the data.\n",
    "(f) Show a boxplot of the data.\n",
    "(g) How is a quantile–quantile plot different from a quantile plot?\n"
   ]
  },
  {
   "cell_type": "code",
   "execution_count": 1,
   "metadata": {},
   "outputs": [],
   "source": [
    "import numpy\n",
    "from numpy import percentile\n",
    "from scipy import stats\n",
    "import matplotlib.pyplot as plt\n",
    "\n",
    "\"\"\"\n",
    "Required: intro_numpy.py, boxplot from intro_matplotlib.py for code and Han Kamber 2.2.1-2.2.2 paragaphs for theory\n",
    "\"\"\"\n",
    "\n",
    "data = numpy.array([13, 15, 16, 16, 19, 20, 20, 21, 22, 22, 25, 25, 25, 25, 30, 33, 33, \n",
    "35, 35, 35, 35, 36, 40, 45, 46, 52, 70])"
   ]
  },
  {
   "cell_type": "markdown",
   "metadata": {
    "pycharm": {
     "name": "#%% md\n"
    }
   },
   "source": [
    "### Mean and median"
   ]
  },
  {
   "cell_type": "code",
   "execution_count": 2,
   "metadata": {
    "pycharm": {
     "name": "#%%\n"
    }
   },
   "outputs": [
    {
     "name": "stdout",
     "output_type": "stream",
     "text": [
      "Mean: 29.963\n",
      "Median: 25.000000\n"
     ]
    }
   ],
   "source": [
    "print(\"Mean: %.3f\" % data.mean())\n",
    "print(\"Median: %f\" % numpy.median(data))\n"
   ]
  },
  {
   "cell_type": "markdown",
   "metadata": {},
   "source": [
    "### Mode"
   ]
  },
  {
   "cell_type": "code",
   "execution_count": 3,
   "metadata": {},
   "outputs": [
    {
     "name": "stdout",
     "output_type": "stream",
     "text": [
      "ModeResult(mode=array([25]), count=array([4]))\n"
     ]
    }
   ],
   "source": [
    "mode = stats.mode(data)  # bug!!! it only computes the *first* of the possibles moda's\n",
    "print(mode)\n"
   ]
  },
  {
   "cell_type": "markdown",
   "metadata": {
    "pycharm": {
     "name": "#%% md\n"
    }
   },
   "source": [
    "### Midrange\n"
   ]
  },
  {
   "cell_type": "code",
   "execution_count": 5,
   "metadata": {
    "pycharm": {
     "name": "#%%\n"
    }
   },
   "outputs": [
    {
     "name": "stdout",
     "output_type": "stream",
     "text": [
      "Midrange: 41.500\n"
     ]
    }
   ],
   "source": [
    "data_min, data_max = data.min(), data.max()\n",
    "print(\"Midrange: %.3f\" % ((data_max + data_min) / 2.0))\n"
   ]
  },
  {
   "cell_type": "markdown",
   "metadata": {
    "pycharm": {
     "name": "#%% md\n"
    }
   },
   "source": [
    "### Quartiles\n"
   ]
  },
  {
   "cell_type": "code",
   "execution_count": 8,
   "metadata": {
    "pycharm": {
     "name": "#%%\n"
    }
   },
   "outputs": [
    {
     "name": "stdout",
     "output_type": "stream",
     "text": [
      "20.5\n",
      "35.0\n"
     ]
    }
   ],
   "source": [
    "quartiles = percentile(data, [25, 75])\n",
    "print(quartiles[0])\n",
    "print(quartiles[1])"
   ]
  },
  {
   "cell_type": "markdown",
   "metadata": {
    "pycharm": {
     "name": "#%% md\n"
    }
   },
   "source": [
    "### Five numbers\n"
   ]
  },
  {
   "cell_type": "code",
   "execution_count": 9,
   "metadata": {},
   "outputs": [
    {
     "name": "stdout",
     "output_type": "stream",
     "text": [
      "Min: 13\n",
      "Q1: 20.50\n",
      "Median: 25.0\n",
      "Q3: 35.00\n",
      "Max: 70\n"
     ]
    }
   ],
   "source": [
    "quartiles = percentile(data, [25, 50, 75])\n",
    "# five numbers\n",
    "print('Min: %d' % data_min)\n",
    "print('Q1: %.2f' % quartiles[0]) # end value of first quartile or first value of second quartile\n",
    "print('Median: %.1f' % quartiles[1])  # needs some thoughts...even...odd...\n",
    "print('Q3: %.2f' % quartiles[2])\n",
    "print('Max: %d' % data_max)\n"
   ]
  },
  {
   "cell_type": "markdown",
   "metadata": {
    "pycharm": {
     "name": "#%% md\n"
    }
   },
   "source": [
    "### Boxplot"
   ]
  },
  {
   "cell_type": "code",
   "execution_count": 10,
   "metadata": {
    "pycharm": {
     "name": "#%%\n"
    }
   },
   "outputs": [
    {
     "data": {
      "image/png": "[encoded data removed]",
      "text/plain": [
       "<Figure size 432x288 with 1 Axes>"
      ]
     },
     "metadata": {
      "needs_background": "light"
     },
     "output_type": "display_data"
    }
   ],
   "source": [
    "# basic plot\n",
    "plt.boxplot(data)\n",
    "plt.show()\n"
   ]
  },
  {
   "cell_type": "code",
   "execution_count": null,
   "metadata": {
    "scrolled": true
   },
   "outputs": [],
   "source": [
    "# difference between quantile plot and quantile-quantile plot\n",
    "from IPython.display import Image\n",
    "Image(\"q_pltVSqq_plt.png\")"
   ]
  },
  {
   "cell_type": "code",
   "execution_count": null,
   "metadata": {},
   "outputs": [],
   "source": []
  },
  {
   "cell_type": "code",
   "execution_count": null,
   "metadata": {},
   "outputs": [],
   "source": []
  },
  {
   "cell_type": "code",
   "execution_count": null,
   "metadata": {},
   "outputs": [],
   "source": []
  }
 ],
 "metadata": {
  "kernelspec": {
   "display_name": "Python 3.9.7 ('base')",
   "language": "python",
   "name": "python3"
  },
  "language_info": {
   "codemirror_mode": {
    "name": "ipython",
    "version": 3
   },
   "file_extension": ".py",
   "mimetype": "text/x-python",
   "name": "python",
   "nbconvert_exporter": "python",
   "pygments_lexer": "ipython3",
   "version": "3.9.7"
  },
  "vscode": {
   "interpreter": {
    "hash": "5959452a2d8c31939077882ca9b6dbba6e4583d5105b341c02132423769eaf01"
   }
  }
 },
 "nbformat": 4,
 "nbformat_minor": 2
}
