{
 "cells": [
  {
   "cell_type": "code",
   "execution_count": null,
   "metadata": {},
   "outputs": [],
   "source": [
    "from scipy.spatial import distance\n",
    "# import Levenshtein  # pip install python-Levenshtein # C compiler required\n",
    "import numpy as np\n",
    "\n",
    "p1 = [0, 1]\n",
    "p2 = [1, 2]\n",
    "\n",
    "# euclidean\n",
    "print(\"Euclidean: \" + str(distance.euclidean(p1, p2)))\n",
    "\n",
    "# manhattan\n",
    "print(\"Manhattan: \" + str((abs(abs(p1[0] - p2[0]) + abs(p1[1] - p2[1])))))\n",
    "\n",
    "# minkowski\n",
    "print(\"Minkowski: \" + str(distance.minkowski(p1, p2, 1)))\n",
    "\n",
    "# supremum\n",
    "print(\"Supremum: \" + str(distance.minkowski(p1, p2, p=float('inf'))))\n",
    "\n",
    "# jaccard\n",
    "print(\"Jaccard: \" + str(distance.jaccard(p1, p2)))\n",
    "\n",
    "# cosine\n",
    "print(\"Cosine: \" + str(distance.cosine(p2, p1)))\n",
    "\n",
    "# Edit\n",
    "# print(\"Edit on string 'a', 'bb': \" + str(Levenshtein.distance(\"a\", \"bb\")))\n",
    "\n",
    "# Hamming\n",
    "# print(\"Hamming on string 'aa', 'bc': \" + str(Levenshtein.hamming(\"aa\", \"bc\")))\n",
    "\n",
    "# Hamming on vectors\n",
    "if len(p1) == 0 or len(p1) != len(p2):\n",
    "    raise ValueError(\"Hamming distance needs vectors of same length (>0)\")\n",
    "\n",
    "lenght = 0\n",
    "for idx in range(0, len(p1)):\n",
    "    if p1[idx] != p2[idx]:\n",
    "        lenght += 1\n",
    "\n",
    "# Hamming\n",
    "print(\"Hamming on vectors p1, p2: %d\" % lenght)\n",
    "\n",
    "\n",
    "# more efficient way of Hamming computation\n",
    "\n",
    "p1a = np.array(p1)\n",
    "p2a = np.array(p2)\n",
    "\n",
    "c_vec = p1a != p2a  # returns an array of boolean\n",
    "\n",
    "# count True value to compute the distance\n",
    "print(\"Hamming(V2) on vectors p1, p2: %d\" % np.count_nonzero(c_vec))\n",
    "\n",
    "\n",
    "# try code with different vector size and different values"
   ]
  },
  {
   "cell_type": "code",
   "execution_count": null,
   "metadata": {},
   "outputs": [],
   "source": []
  }
 ],
 "metadata": {
  "kernelspec": {
   "display_name": "Python 3.9.7 ('base')",
   "language": "python",
   "name": "python3"
  },
  "language_info": {
   "codemirror_mode": {
    "name": "ipython",
    "version": 3
   },
   "file_extension": ".py",
   "mimetype": "text/x-python",
   "name": "python",
   "nbconvert_exporter": "python",
   "pygments_lexer": "ipython3",
   "version": "3.9.7"
  },
  "vscode": {
   "interpreter": {
    "hash": "5959452a2d8c31939077882ca9b6dbba6e4583d5105b341c02132423769eaf01"
   }
  }
 },
 "nbformat": 4,
 "nbformat_minor": 1
}
