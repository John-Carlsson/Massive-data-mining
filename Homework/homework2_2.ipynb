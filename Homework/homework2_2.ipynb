{
 "cells": [
  {
   "cell_type": "code",
   "execution_count": null,
   "metadata": {},
   "outputs": [],
   "source": [
    "''' Task 2.3 '''\n",
    "# See homework 1"
   ]
  },
  {
   "cell_type": "code",
   "execution_count": null,
   "metadata": {},
   "outputs": [],
   "source": [
    "''' The median is one of the most important holistic measures in data analysis.\n",
    "Propose several methods for median approximation. Analyze their respective complexity\n",
    "under different parameter settings and decide to what extent the real value can be\n",
    "approximated. Moreover, suggest a heuristic strategy to balance between accuracy and\n",
    "complexity and then apply it to all methods you have given. '''"
   ]
  },
  {
   "cell_type": "code",
   "execution_count": null,
   "metadata": {},
   "outputs": [],
   "source": []
  }
 ],
 "metadata": {
  "language_info": {
   "name": "python"
  },
  "orig_nbformat": 4
 },
 "nbformat": 4,
 "nbformat_minor": 2
}
