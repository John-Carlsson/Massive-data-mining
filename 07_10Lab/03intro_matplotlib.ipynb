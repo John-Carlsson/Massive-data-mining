{
 "cells": [
  {
   "cell_type": "markdown",
   "metadata": {},
   "source": [
    "# 03intro_matplotlib"
   ]
  },
  {
   "cell_type": "code",
   "execution_count": null,
   "metadata": {
    "pycharm": {
     "name": "#%%\n"
    }
   },
   "outputs": [],
   "source": [
    "# some basic usage of matplotlib\n",
    "# %matplotlib notebook # on some env it may be necessary\n",
    "import matplotlib.pyplot as plt\n",
    "import numpy.random as random\n",
    "\n",
    "x_data = [23, 23, 27, 27, 39, 41, 47, 49, 50, 52, 54, 54, 56, 57, 58, 58, 60, 61]\n",
    "y_data = [9.5, 26.5, 7.8, 17.8, 31.4, 25.9, 27.4, 27.2, 31.2, 34.6, 42.5, 28.8, 33.4, 30.2, 34.1, 32.9, 41.2, 35.7]\n",
    "\n",
    "# for each of plotting function of matplotlib you can use a numpy array or a python list\n",
    "\n",
    "# boxplot\n",
    "plt.boxplot(x_data)  # try plot x and y. Try outlier (whis)\n",
    "plt.title('Box plot of x_data')\n",
    "plt.xlabel('x')\n",
    "plt.ylabel('y')\n",
    "plt.show()"
   ]
  },
  {
   "cell_type": "code",
   "execution_count": null,
   "metadata": {
    "pycharm": {
     "name": "#%%\n"
    }
   },
   "outputs": [],
   "source": [
    "# in the opening windows you can export the plot in various format.\n",
    "\n",
    "# scatter plot\n",
    "plt.scatter(x_data, y_data)\n",
    "plt.title('Scatter plot of x_data and y_data')\n",
    "plt.xlabel('x')\n",
    "plt.ylabel('y')\n",
    "plt.show()"
   ]
  },
  {
   "cell_type": "code",
   "execution_count": null,
   "metadata": {
    "pycharm": {
     "name": "#%%\n"
    }
   },
   "outputs": [],
   "source": [
    "# q-q plot of x_data against normal distribution\n",
    "x_data.sort()\n",
    "norm = random.normal(0, 2, len(x_data))  # build a random data array with normal distribution\n",
    "norm.sort()\n",
    "plt.plot(norm, x_data, \"o\")\n",
    "plt.title('Q-Q plot of x_data')\n",
    "plt.xlabel('x')\n",
    "plt.ylabel('y')\n",
    "plt.show()"
   ]
  },
  {
   "cell_type": "code",
   "execution_count": null,
   "metadata": {
    "pycharm": {
     "name": "#%%\n"
    }
   },
   "outputs": [],
   "source": [
    "# histogram\n",
    "\n",
    "plt.hist(x_data, bins=5, orientation='vertical')\n",
    "plt.title('Hitogram of x_data')\n",
    "plt.xlabel('x')\n",
    "plt.ylabel('y')\n",
    "plt.show()"
   ]
  },
  {
   "cell_type": "code",
   "execution_count": null,
   "metadata": {
    "pycharm": {
     "name": "#%%\n"
    }
   },
   "outputs": [],
   "source": [
    "# stacked histogram\n",
    "\n",
    "hist = plt.hist((x_data, y_data), bins=5, orientation='vertical', histtype='barstacked')\n",
    "plt.title('Hitogram of x_data and y_data stacked on top of each others')\n",
    "plt.xlabel('x')\n",
    "plt.ylabel('y')\n",
    "plt.show()"
   ]
  },
  {
   "cell_type": "code",
   "execution_count": null,
   "metadata": {
    "pycharm": {
     "name": "#%%\n"
    }
   },
   "outputs": [],
   "source": [
    "# plot multiple histogram\n",
    "\n",
    "plt.hist(x_data, bins=range(0, 100, 10), orientation='vertical', fc=(1, 0, 0, 1))\n",
    "plt.hist(y_data, bins=range(0, 100, 10), orientation='vertical', fc=(0, 0, 1, 0.5))  # alpha channel added\n",
    "plt.title('Hitogram of x_data and y_data with transparecy added')\n",
    "plt.xlabel('x')\n",
    "plt.ylabel('y')\n",
    "plt.show()"
   ]
  },
  {
   "cell_type": "code",
   "execution_count": null,
   "metadata": {},
   "outputs": [],
   "source": [
    "# Use dataset sample.csv to plot:\n",
    "# boxplot of weight and height\n",
    "# scatter plot of weight vs. height\n",
    "# histogram of weight\n",
    "# histogram of height\n",
    "# histogram of age"
   ]
  }
 ],
 "metadata": {
  "colab": {
   "name": "Copia di 01_02_03intro_python_v2.ipynb",
   "provenance": [
    {
     "file_id": "136zejrQ0PAtWK1r18QQW2NxWbm0K-N-e",
     "timestamp": 1601455629410
    }
   ]
  },
  "kernelspec": {
   "display_name": "Python 3.9.7 ('base')",
   "language": "python",
   "name": "python3"
  },
  "language_info": {
   "codemirror_mode": {
    "name": "ipython",
    "version": 3
   },
   "file_extension": ".py",
   "mimetype": "text/x-python",
   "name": "python",
   "nbconvert_exporter": "python",
   "pygments_lexer": "ipython3",
   "version": "3.9.7"
  },
  "vscode": {
   "interpreter": {
    "hash": "5959452a2d8c31939077882ca9b6dbba6e4583d5105b341c02132423769eaf01"
   }
  }
 },
 "nbformat": 4,
 "nbformat_minor": 1
}
