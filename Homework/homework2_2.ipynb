{
 "cells": [
  {
   "cell_type": "code",
   "execution_count": null,
   "metadata": {},
   "outputs": [],
   "source": [
    "''' Task 2.3 '''\n",
    "# See homework 1"
   ]
  },
  {
   "cell_type": "code",
   "execution_count": null,
   "metadata": {},
   "outputs": [],
   "source": [
    "'''  Task 2.7  '''"
   ]
  },
  {
   "cell_type": "code",
   "execution_count": 11,
   "metadata": {},
   "outputs": [
    {
     "name": "stdout",
     "output_type": "stream",
     "text": [
      "[14.666666666666666, 18.333333333333332, 21.0, 24.0, 26.666666666666668, 33.666666666666664, 35.0, 40.333333333333336, 56.0]\n"
     ]
    }
   ],
   "source": [
    "'''  Task 3.3  '''\n",
    "import numpy as np\n",
    "\n",
    "data = [ 13, 15, 16, 16, 19, 20, 20, 21, 22, 22, 25, 25, 25, 25, 30, 33, 33, 35, 35, 35, 35, 36, 40, 45, 46, 52, 70]\n",
    "# a) Use smoothing by bin means to smooth these data, using a bin depth of 3. Illustrate\n",
    "# your steps. Comment on the effect of this technique for the given data.\n",
    "width = 3\n",
    "# sort the data (already sorted)\n",
    "# partition the data into bins of size 3 eg: [10,11,12],[13,14,15]...\n",
    "# calculate and swap the values with the mean of each bin\n",
    "# here it is very compressed, but it works fine\n",
    "bin_data = [np.mean(data[i:i+width]) for i in range(0,len(data),width)]\n",
    "\n",
    "\n",
    "# b) How might you determine outliers in the data?\n",
    "\"You can use clustering\"\n",
    "\n",
    "# c) What other methods are there for data smoothing?\n",
    "\"Other forms of binning. Different regression models, e.g linear or multiple. With clustering you can use classification to smooth data\""
   ]
  }
 ],
 "metadata": {
  "kernelspec": {
   "display_name": "Python 3.9.7 ('base')",
   "language": "python",
   "name": "python3"
  },
  "language_info": {
   "codemirror_mode": {
    "name": "ipython",
    "version": 3
   },
   "file_extension": ".py",
   "mimetype": "text/x-python",
   "name": "python",
   "nbconvert_exporter": "python",
   "pygments_lexer": "ipython3",
   "version": "3.9.7"
  },
  "orig_nbformat": 4,
  "vscode": {
   "interpreter": {
    "hash": "5959452a2d8c31939077882ca9b6dbba6e4583d5105b341c02132423769eaf01"
   }
  }
 },
 "nbformat": 4,
 "nbformat_minor": 2
}
